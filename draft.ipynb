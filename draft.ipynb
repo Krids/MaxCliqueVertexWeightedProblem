{
 "cells": [
  {
   "cell_type": "code",
   "execution_count": 1,
   "metadata": {},
   "outputs": [],
   "source": [
    "import Utils as utils\n",
    "from LocalSearch import LocalSearch\n",
    "from Solution import Solution\n",
    "import numpy as np"
   ]
  },
  {
   "cell_type": "code",
   "execution_count": 2,
   "metadata": {},
   "outputs": [
    {
     "name": "stdout",
     "output_type": "stream",
     "text": [
      "[[ 0.  1.  1. ...,  0.  0.  0.]\n",
      " [ 1.  0.  1. ...,  0.  0.  0.]\n",
      " [ 1.  1.  0. ...,  0.  0.  0.]\n",
      " ..., \n",
      " [ 0.  0.  0. ...,  0.  1.  1.]\n",
      " [ 0.  0.  0. ...,  1.  0.  1.]\n",
      " [ 0.  0.  0. ...,  1.  1.  0.]]\n"
     ]
    }
   ],
   "source": [
    "matrix = utils.get_adjacency_matrix(\"frb53-24-1.mis\")"
   ]
  },
  {
   "cell_type": "code",
   "execution_count": 3,
   "metadata": {},
   "outputs": [
    {
     "data": {
      "text/plain": [
       "(1272, 1272)"
      ]
     },
     "execution_count": 3,
     "metadata": {},
     "output_type": "execute_result"
    }
   ],
   "source": [
    "matrix.shape"
   ]
  },
  {
   "cell_type": "code",
   "execution_count": 4,
   "metadata": {
    "scrolled": true
   },
   "outputs": [
    {
     "name": "stdout",
     "output_type": "stream",
     "text": [
      "[[ 0.  0.  0. ...,  1.  1.  1.]\n",
      " [ 0.  0.  0. ...,  1.  1.  1.]\n",
      " [ 0.  0.  0. ...,  1.  1.  1.]\n",
      " ..., \n",
      " [ 1.  1.  1. ...,  0.  0.  0.]\n",
      " [ 1.  1.  1. ...,  0.  0.  0.]\n",
      " [ 1.  1.  1. ...,  0.  0.  0.]]\n"
     ]
    }
   ],
   "source": [
    "comple_matrix = utils.find_complement_matrix(\"frb53-24-1.mis\")"
   ]
  },
  {
   "cell_type": "code",
   "execution_count": 5,
   "metadata": {},
   "outputs": [],
   "source": [
    "penalty_matrix = utils.apply_preparations(comple_matrix)"
   ]
  },
  {
   "cell_type": "code",
   "execution_count": 6,
   "metadata": {},
   "outputs": [
    {
     "name": "stdout",
     "output_type": "stream",
     "text": [
      "[[    1.     0.     0. ..., -1000. -1000. -1000.]\n",
      " [    0.     2.     0. ..., -1000. -1000. -1000.]\n",
      " [    0.     0.     3. ..., -1000. -1000. -1000.]\n",
      " ..., \n",
      " [    0.     0.     0. ...,    70.     0.     0.]\n",
      " [    0.     0.     0. ...,     0.    71.     0.]\n",
      " [    0.     0.     0. ...,     0.     0.    72.]]\n"
     ]
    }
   ],
   "source": [
    "print(penalty_matrix)"
   ]
  },
  {
   "cell_type": "code",
   "execution_count": 7,
   "metadata": {},
   "outputs": [
    {
     "name": "stdout",
     "output_type": "stream",
     "text": [
      "(1, 1272)\n",
      "[[ 1.  1.  1. ...,  1.  0.  0.]]\n"
     ]
    }
   ],
   "source": [
    "initial_solution = utils.get_random_initial_solution(matrix)\n",
    "#initial_solution = utils.get_empty_initial_solution(matrix)\n",
    "print(initial_solution.shape)\n",
    "print(initial_solution)"
   ]
  },
  {
   "cell_type": "code",
   "execution_count": 8,
   "metadata": {},
   "outputs": [
    {
     "name": "stdout",
     "output_type": "stream",
     "text": [
      "-183161829.0\n"
     ]
    }
   ],
   "source": [
    "ls = LocalSearch(initial_solution=initial_solution, penalty_matrix=penalty_matrix)\n",
    "ls.do_local_search()"
   ]
  },
  {
   "cell_type": "code",
   "execution_count": 9,
   "metadata": {},
   "outputs": [
    {
     "name": "stdout",
     "output_type": "stream",
     "text": [
      "000000000000000000000000000000000000000000000000000000000000000000000000000000000000000000000000000000000000000000000000000000000000000000000000000000000000000000000000000000000000000000000000000000000000000000000000000000000000000000000000000000000000000000000000000000000000000000000000000000000000000000000000000000000000000000000000000000000000000000000000000000000000000000000000000000000000000000000000000000000000000000000000000000000000000000000000000000000000000000000000000000000000000000000000000000000000000000000000000000000000000000000000000000000000000000000000000000000000000000000000000000000000000000000100000000000000010011001011110100110011110111111111100111111101111111011011111111111111111111111111111111111111111111111111111111111111111111111111111111111111111111111111111111111111111111111111111111111111111111111111111111111111111111111111111111111111111111111111111111111111111111111111111111111111111111111111111111111111111111111111111111111111111111111111111111111111111111111111111111111111111111111111111111111101111111111111101111111111111011111111011111111111111111111111011111101001111111111111111100111111110011111111111111111111111111111111111111111111111111111111111111111111111111111111111111111111111111111111111111111111111111111111\n",
      "\n",
      "-78697972.0\n",
      "-158809972.0\n",
      "-158809972.0\n"
     ]
    }
   ],
   "source": [
    "for i in range(ls.solution.solution.shape[1]):\n",
    "    print(int(ls.solution.solution[0, i]), end=\"\")\n",
    "print(\"\\n\")    \n",
    "print(ls.solution.value)\n",
    "ls.solution.evaluate()\n",
    "print(ls.solution.value)"
   ]
  },
  {
   "cell_type": "code",
   "execution_count": null,
   "metadata": {},
   "outputs": [],
   "source": []
  }
 ],
 "metadata": {
  "kernelspec": {
   "display_name": "Python 3",
   "language": "python",
   "name": "python3"
  },
  "language_info": {
   "codemirror_mode": {
    "name": "ipython",
    "version": 3
   },
   "file_extension": ".py",
   "mimetype": "text/x-python",
   "name": "python",
   "nbconvert_exporter": "python",
   "pygments_lexer": "ipython3",
   "version": "3.6.5"
  }
 },
 "nbformat": 4,
 "nbformat_minor": 2
}
