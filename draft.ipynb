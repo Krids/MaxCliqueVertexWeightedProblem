{
 "cells": [
  {
   "cell_type": "code",
   "execution_count": 1,
   "metadata": {},
   "outputs": [],
   "source": [
    "# Imports\n",
    "import matplotlib.pyplot as plt\n",
    "import Utils as utils\n",
    "from LocalSearch import LocalSearch\n",
    "from InitialSolution import InitialSolution\n",
    "from IteratedLS import IteratedLS\n",
    "from RandomLS import RandomLS\n",
    "import numpy as np\n",
    "\n",
    "%matplotlib inline"
   ]
  },
  {
   "cell_type": "code",
   "execution_count": 2,
   "metadata": {},
   "outputs": [
    {
     "name": "stdout",
     "output_type": "stream",
     "text": [
      "[[ 0.  0.  0. ...,  1.  1.  1.]\n",
      " [ 0.  0.  0. ...,  1.  1.  1.]\n",
      " [ 0.  0.  0. ...,  1.  1.  1.]\n",
      " ..., \n",
      " [ 1.  1.  1. ...,  0.  0.  0.]\n",
      " [ 1.  1.  1. ...,  0.  0.  0.]\n",
      " [ 1.  1.  1. ...,  0.  0.  0.]]\n"
     ]
    }
   ],
   "source": [
    "complement_matrix = utils.find_complement_matrix(\"data/frb53-24-1.mis\")"
   ]
  },
  {
   "cell_type": "code",
   "execution_count": 3,
   "metadata": {},
   "outputs": [],
   "source": [
    "penalty_matrix = utils.apply_preparations(complement_matrix)"
   ]
  },
  {
   "cell_type": "code",
   "execution_count": 4,
   "metadata": {},
   "outputs": [],
   "source": [
    "initial_solution = InitialSolution(penalty_matrix, \"ris\")\n",
    "is_rdn = initial_solution.get_initial_solution()\n",
    "\n",
    "initial_solution = InitialSolution(penalty_matrix, \"eis\")\n",
    "is_empty = initial_solution.get_initial_solution()\n",
    "\n",
    "initial_solution = InitialSolution(penalty_matrix, \"rcis\")\n",
    "is_rdn_clique = initial_solution.get_initial_solution()\n",
    "\n",
    "initial_solution = InitialSolution(penalty_matrix, \"rcisrs\")\n",
    "is_rdn_clique_rdn_start = initial_solution.get_initial_solution()\n",
    "\n",
    "initial_solution = InitialSolution(penalty_matrix, \"best\")\n",
    "is_rdn_clique_rdn_walking = initial_solution.get_initial_solution()"
   ]
  },
  {
   "cell_type": "code",
   "execution_count": 5,
   "metadata": {},
   "outputs": [],
   "source": [
    "def print_result(solution):\n",
    "    for i in range(solution.shape[1]):\n",
    "        print(int(solution[0, i]), end=\"\")\n",
    "    print(\"\\n\")"
   ]
  },
  {
   "cell_type": "code",
   "execution_count": 6,
   "metadata": {},
   "outputs": [
    {
     "name": "stdout",
     "output_type": "stream",
     "text": [
      "000000000000000000001000000000000000000000000000000000000000000000000000000000000000000000000000000000000000000000000000000000000000000000000000000000000100000000000000000000000000000000010000000000000000000000000000000000000000000000000100000000000000000000000000000000000000000000000000000000000000000000000000000000000000000000000000000000000000000000000000000000000000000000000000000000000000010000000000000000000000000000000000000000000000000000000000000000000001000000000001000000000000000000000000000000000000000000010000000000000000000000000000000000000100000000000000000000000000000000000000101000000000000000000000000000000000000000000100000000010000000000000000000000000000000000000000000000000000000000000000000000000000000000000000000000000000000000000000000000000000000000000000000000000010000000000000000000000000000000000000000000000000000000000000001000000000000000000000010000000000000000000000000000000000000000000000000000000000000000000000000000000000000000000000000000000000000000000000000000000000000010000000000000000000000000000000000000000000000000000100000000000000000000000000000000000000000000000000000000000000000000000000000000000000000000000000000000000000000000000000000000000000000000000000000000000000000000000000000000000000000000000100\n",
      "\n",
      "655.0\n"
     ]
    }
   ],
   "source": [
    "iterated_ls = IteratedLS(penalty_matrix=penalty_matrix, max_time=1, type_search=\"rdn_ls\", ls_type=\"first_improvement\", iterated_type=\"new_clique\", initial_solution_type=\"best\", p=0.5, k=10)\n",
    "iterated_ls.make_iterated_local_search()\n",
    "print_result(iterated_ls.best_solution)\n",
    "print(iterated_ls.value)"
   ]
  },
  {
   "cell_type": "code",
   "execution_count": null,
   "metadata": {},
   "outputs": [],
   "source": []
  }
 ],
 "metadata": {
  "kernelspec": {
   "display_name": "Python 3",
   "language": "python",
   "name": "python3"
  },
  "language_info": {
   "codemirror_mode": {
    "name": "ipython",
    "version": 3
   },
   "file_extension": ".py",
   "mimetype": "text/x-python",
   "name": "python",
   "nbconvert_exporter": "python",
   "pygments_lexer": "ipython3",
   "version": "3.6.5"
  }
 },
 "nbformat": 4,
 "nbformat_minor": 2
}
