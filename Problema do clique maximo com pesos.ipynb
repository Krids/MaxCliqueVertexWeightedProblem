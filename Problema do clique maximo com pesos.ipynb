{
 "cells": [
  {
   "cell_type": "markdown",
   "metadata": {},
   "source": [
    "# Maximum Vertex Weighted Clique Problem"
   ]
  },
  {
   "cell_type": "markdown",
   "metadata": {},
   "source": [
    "For this problem we will first load the instance that we will work using the Networkx library, then we will transform the loaded graphs into an penalty matrix that will be a square matrix nxn where n is the number of vertices in the instance. Each position of the array will receive 0 if there is an edge connecting the vertices and the penalty (-1000) if there is no edge connecting the vertices. The matrix will be triangular and the down side of the diagonal will be loaded with 0s."
   ]
  },
  {
   "cell_type": "code",
   "execution_count": null,
   "metadata": {},
   "outputs": [],
   "source": [
    "# Imports\n",
    "import matplotlib.pyplot as plt\n",
    "import Utils as utils\n",
    "from LocalSearch import LocalSearch\n",
    "from InitialSolution import InitialSolution\n",
    "from IteratedLS import IteratedLS\n",
    "from RandomLS import RandomLS\n",
    "import numpy as np\n",
    "from scipy import optimize\n",
    "\n",
    "%matplotlib inline"
   ]
  },
  {
   "cell_type": "markdown",
   "metadata": {},
   "source": [
    "### Loading the penalty matrix based on the complement matrix of the adjacency matrix created by the graphs instance"
   ]
  },
  {
   "cell_type": "code",
   "execution_count": null,
   "metadata": {},
   "outputs": [],
   "source": [
    "complement_matrix = utils.find_complement_matrix(\"data/frb50-23-3.clq\")"
   ]
  },
  {
   "cell_type": "code",
   "execution_count": null,
   "metadata": {},
   "outputs": [],
   "source": [
    "penalty_matrix = utils.apply_preparations(complement_matrix)"
   ]
  },
  {
   "cell_type": "code",
   "execution_count": null,
   "metadata": {},
   "outputs": [],
   "source": [
    "print(penalty_matrix)"
   ]
  },
  {
   "cell_type": "markdown",
   "metadata": {},
   "source": [
    "### Get the initial solution"
   ]
  },
  {
   "cell_type": "code",
   "execution_count": null,
   "metadata": {},
   "outputs": [],
   "source": [
    "initial_solution = InitialSolution(penalty_matrix, \"ris\")\n",
    "is_rdn = initial_solution.get_initial_solution()\n",
    "\n",
    "initial_solution = InitialSolution(penalty_matrix, \"eis\")\n",
    "is_empty = initial_solution.get_initial_solution()\n",
    "\n",
    "initial_solution = InitialSolution(penalty_matrix, \"rcis\")\n",
    "is_rdn_clique = initial_solution.get_initial_solution()\n",
    "\n",
    "initial_solution = InitialSolution(penalty_matrix, \"rcisrs\")\n",
    "is_rdn_clique_rdn_start = initial_solution.get_initial_solution()\n",
    "\n",
    "initial_solution = InitialSolution(penalty_matrix, \"best\")\n",
    "is_rdn_clique_rdn_walking = initial_solution.get_initial_solution()"
   ]
  },
  {
   "cell_type": "markdown",
   "metadata": {},
   "source": [
    "##### Random initial solution"
   ]
  },
  {
   "cell_type": "code",
   "execution_count": null,
   "metadata": {},
   "outputs": [],
   "source": [
    "for i in range(is_rdn.shape[1]):\n",
    "    print(int(is_rdn[0, i]), end=\"\")"
   ]
  },
  {
   "cell_type": "markdown",
   "metadata": {},
   "source": [
    "##### Empty initial solution (all 0)"
   ]
  },
  {
   "cell_type": "code",
   "execution_count": null,
   "metadata": {},
   "outputs": [],
   "source": [
    "for i in range(is_empty.shape[1]):\n",
    "    print(int(is_empty[0, i]), end=\"\")"
   ]
  },
  {
   "cell_type": "markdown",
   "metadata": {},
   "source": [
    "##### Random clique initial solution"
   ]
  },
  {
   "cell_type": "code",
   "execution_count": null,
   "metadata": {},
   "outputs": [],
   "source": [
    "for i in range(is_rdn_clique.shape[1]):\n",
    "    print(int(is_rdn_clique[0, i]), end=\"\")"
   ]
  },
  {
   "cell_type": "markdown",
   "metadata": {},
   "source": [
    "##### Random clique initial solution with random start"
   ]
  },
  {
   "cell_type": "code",
   "execution_count": null,
   "metadata": {},
   "outputs": [],
   "source": [
    "for i in range(is_rdn_clique_rdn_start.shape[1]):\n",
    "    print(int(is_rdn_clique_rdn_start[0, i]), end=\"\")"
   ]
  },
  {
   "cell_type": "markdown",
   "metadata": {},
   "source": [
    "##### Random clique initial solution with random walking"
   ]
  },
  {
   "cell_type": "code",
   "execution_count": null,
   "metadata": {},
   "outputs": [],
   "source": [
    "for i in range(is_rdn_clique_rdn_walking.shape[1]):\n",
    "    print(int(is_rdn_clique_rdn_walking[0, i]), end=\"\")"
   ]
  },
  {
   "cell_type": "markdown",
   "metadata": {},
   "source": [
    "### Applying the Local Search    "
   ]
  },
  {
   "cell_type": "code",
   "execution_count": null,
   "metadata": {},
   "outputs": [],
   "source": [
    "def print_result(solution):\n",
    "    for i in range(solution.shape[1]):\n",
    "        print(int(solution[0, i]), end=\"\")\n",
    "    print(\"\\n\")"
   ]
  },
  {
   "cell_type": "markdown",
   "metadata": {},
   "source": [
    "##### Best improvement local search"
   ]
  },
  {
   "cell_type": "code",
   "execution_count": null,
   "metadata": {},
   "outputs": [],
   "source": [
    "ls_bi = LocalSearch(initial_solution=is_rdn, penalty_matrix=penalty_matrix, ls_type=\"best_improvement\")\n",
    "ls_bi.make_local_search()\n",
    "print_result(ls_bi.solution.solution)\n",
    "print(ls_bi.solution.value)"
   ]
  },
  {
   "cell_type": "code",
   "execution_count": null,
   "metadata": {},
   "outputs": [],
   "source": [
    "ls_bi = LocalSearch(initial_solution=is_empty, penalty_matrix=penalty_matrix, ls_type=\"best_improvement\")\n",
    "ls_bi.make_local_search()\n",
    "print_result(ls_bi.solution.solution)\n",
    "print(ls_bi.solution.value)"
   ]
  },
  {
   "cell_type": "code",
   "execution_count": null,
   "metadata": {},
   "outputs": [],
   "source": [
    "ls_bi = LocalSearch(initial_solution=is_rdn_clique, penalty_matrix=penalty_matrix, ls_type=\"best_improvement\")\n",
    "ls_bi.make_local_search()\n",
    "print_result(ls_bi.solution.solution)\n",
    "print(ls_bi.solution.value)"
   ]
  },
  {
   "cell_type": "code",
   "execution_count": null,
   "metadata": {},
   "outputs": [],
   "source": [
    "ls_bi = LocalSearch(initial_solution=is_rdn_clique_rdn_start, penalty_matrix=penalty_matrix, ls_type=\"best_improvement\")\n",
    "ls_bi.make_local_search()\n",
    "print_result(ls_bi.solution.solution)\n",
    "print(ls_bi.solution.value)"
   ]
  },
  {
   "cell_type": "code",
   "execution_count": null,
   "metadata": {},
   "outputs": [],
   "source": [
    "ls_bi = LocalSearch(initial_solution=is_rdn_clique_rdn_walking, penalty_matrix=penalty_matrix, ls_type=\"best_improvement\")\n",
    "ls_bi.make_local_search()\n",
    "print_result(ls_bi.solution.solution)\n",
    "print(ls_bi.solution.value)"
   ]
  },
  {
   "cell_type": "markdown",
   "metadata": {},
   "source": [
    "##### First improvement local search"
   ]
  },
  {
   "cell_type": "code",
   "execution_count": null,
   "metadata": {},
   "outputs": [],
   "source": [
    "ls_fi = LocalSearch(initial_solution=is_rdn, penalty_matrix=penalty_matrix, ls_type=\"first_improvement\")\n",
    "ls_fi.make_local_search()\n",
    "print_result(ls_fi.solution.solution)\n",
    "print(ls_fi.solution.value)"
   ]
  },
  {
   "cell_type": "code",
   "execution_count": null,
   "metadata": {},
   "outputs": [],
   "source": [
    "ls_fi = LocalSearch(initial_solution=is_empty, penalty_matrix=penalty_matrix, ls_type=\"first_improvement\")\n",
    "ls_fi.make_local_search()\n",
    "print_result(ls_fi.solution.solution)\n",
    "print(ls_fi.solution.value)"
   ]
  },
  {
   "cell_type": "code",
   "execution_count": null,
   "metadata": {},
   "outputs": [],
   "source": [
    "ls_fi = LocalSearch(initial_solution=is_rdn_clique, penalty_matrix=penalty_matrix, ls_type=\"first_improvement\")\n",
    "ls_fi.make_local_search()\n",
    "print_result(ls_fi.solution.solution)\n",
    "print(ls_fi.solution.value)"
   ]
  },
  {
   "cell_type": "code",
   "execution_count": null,
   "metadata": {},
   "outputs": [],
   "source": [
    "ls_fi = LocalSearch(initial_solution=is_rdn_clique_rdn_start, penalty_matrix=penalty_matrix, ls_type=\"first_improvement\")\n",
    "ls_fi.make_local_search()\n",
    "print_result(ls_fi.solution.solution)\n",
    "print(ls_fi.solution.value)"
   ]
  },
  {
   "cell_type": "code",
   "execution_count": null,
   "metadata": {},
   "outputs": [],
   "source": [
    "ls_fi = LocalSearch(initial_solution=is_rdn_clique_rdn_walking, penalty_matrix=penalty_matrix, ls_type=\"first_improvement\")\n",
    "ls_fi.make_local_search()\n",
    "print_result(ls_fi.solution.solution)\n",
    "print(ls_fi.solution.value)"
   ]
  },
  {
   "cell_type": "markdown",
   "metadata": {},
   "source": [
    "### Applying the iterated local search"
   ]
  },
  {
   "cell_type": "markdown",
   "metadata": {},
   "source": [
    "##### Applying the iterated local search with simple local search"
   ]
  },
  {
   "cell_type": "markdown",
   "metadata": {},
   "source": [
    "###### New clique pertubation"
   ]
  },
  {
   "cell_type": "markdown",
   "metadata": {},
   "source": [
    "First improvement"
   ]
  },
  {
   "cell_type": "code",
   "execution_count": null,
   "metadata": {},
   "outputs": [],
   "source": [
    "iterated_ls = IteratedLS(penalty_matrix=penalty_matrix, max_time=1, type_search=\"local_search\", ls_type=\"first_improvement\", iterated_type=\"new_clique\", initial_solution_type=\"ris\")\n",
    "iterated_ls.make_iterated_local_search()\n",
    "print_result(iterated_ls.best_solution)\n",
    "print(iterated_ls.value)"
   ]
  },
  {
   "cell_type": "code",
   "execution_count": null,
   "metadata": {},
   "outputs": [],
   "source": [
    "iterated_ls = IteratedLS(penalty_matrix=penalty_matrix, max_time=1, type_search=\"local_search\", ls_type=\"first_improvement\", iterated_type=\"new_clique\", initial_solution_type=\"eis\")\n",
    "iterated_ls.make_iterated_local_search()\n",
    "print_result(iterated_ls.best_solution)\n",
    "print(iterated_ls.value)"
   ]
  },
  {
   "cell_type": "code",
   "execution_count": null,
   "metadata": {},
   "outputs": [],
   "source": [
    "iterated_ls = IteratedLS(penalty_matrix=penalty_matrix, max_time=1, type_search=\"local_search\", ls_type=\"first_improvement\", iterated_type=\"new_clique\", initial_solution_type=\"rcis\")\n",
    "iterated_ls.make_iterated_local_search()\n",
    "print_result(iterated_ls.best_solution)\n",
    "print(iterated_ls.value)"
   ]
  },
  {
   "cell_type": "code",
   "execution_count": null,
   "metadata": {},
   "outputs": [],
   "source": [
    "iterated_ls = IteratedLS(penalty_matrix=penalty_matrix, max_time=1, type_search=\"local_search\", ls_type=\"first_improvement\", iterated_type=\"new_clique\", initial_solution_type=\"rcisrs\")\n",
    "iterated_ls.make_iterated_local_search()\n",
    "print_result(iterated_ls.best_solution)\n",
    "print(iterated_ls.value)"
   ]
  },
  {
   "cell_type": "code",
   "execution_count": null,
   "metadata": {},
   "outputs": [],
   "source": [
    "iterated_ls = IteratedLS(penalty_matrix=penalty_matrix, max_time=1, type_search=\"local_search\", ls_type=\"first_improvement\", iterated_type=\"new_clique\", initial_solution_type=\"best\")\n",
    "iterated_ls.make_iterated_local_search()\n",
    "print_result(iterated_ls.best_solution)\n",
    "print(iterated_ls.value)"
   ]
  },
  {
   "cell_type": "markdown",
   "metadata": {},
   "source": [
    "###### Clique combination pertubation"
   ]
  },
  {
   "cell_type": "markdown",
   "metadata": {},
   "source": [
    "First improvement"
   ]
  },
  {
   "cell_type": "code",
   "execution_count": null,
   "metadata": {},
   "outputs": [],
   "source": [
    "iterated_ls = IteratedLS(penalty_matrix=penalty_matrix, max_time=1, type_search=\"local_search\", ls_type=\"first_improvement\", iterated_type=\"clique_combination\", initial_solution_type=\"ris\")\n",
    "iterated_ls.make_iterated_local_search()\n",
    "print_result(iterated_ls.best_solution)\n",
    "print(iterated_ls.value)"
   ]
  },
  {
   "cell_type": "code",
   "execution_count": null,
   "metadata": {},
   "outputs": [],
   "source": [
    "iterated_ls = IteratedLS(penalty_matrix=penalty_matrix, max_time=1, type_search=\"local_search\", ls_type=\"first_improvement\", iterated_type=\"clique_combination\", initial_solution_type=\"eis\")\n",
    "iterated_ls.make_iterated_local_search()\n",
    "print_result(iterated_ls.best_solution)\n",
    "print(iterated_ls.value)"
   ]
  },
  {
   "cell_type": "code",
   "execution_count": null,
   "metadata": {},
   "outputs": [],
   "source": [
    "iterated_ls = IteratedLS(penalty_matrix=penalty_matrix, max_time=1, type_search=\"local_search\", ls_type=\"first_improvement\", iterated_type=\"clique_combination\", initial_solution_type=\"rcis\")\n",
    "iterated_ls.make_iterated_local_search()\n",
    "print_result(iterated_ls.best_solution)\n",
    "print(iterated_ls.value)"
   ]
  },
  {
   "cell_type": "code",
   "execution_count": null,
   "metadata": {},
   "outputs": [],
   "source": [
    "iterated_ls = IteratedLS(penalty_matrix=penalty_matrix, max_time=1, type_search=\"local_search\", ls_type=\"first_improvement\", iterated_type=\"clique_combination\", initial_solution_type=\"rcisrs\")\n",
    "iterated_ls.make_iterated_local_search()\n",
    "print_result(iterated_ls.best_solution)\n",
    "print(iterated_ls.value)"
   ]
  },
  {
   "cell_type": "code",
   "execution_count": null,
   "metadata": {},
   "outputs": [],
   "source": [
    "iterated_ls = IteratedLS(penalty_matrix=penalty_matrix, max_time=1, type_search=\"local_search\", ls_type=\"first_improvement\", iterated_type=\"clique_combination\", initial_solution_type=\"best\")\n",
    "iterated_ls.make_iterated_local_search()\n",
    "print_result(iterated_ls.best_solution)\n",
    "print(iterated_ls.value)"
   ]
  },
  {
   "cell_type": "markdown",
   "metadata": {},
   "source": [
    "###### New clique pertubation"
   ]
  },
  {
   "cell_type": "markdown",
   "metadata": {},
   "source": [
    "Best improvement"
   ]
  },
  {
   "cell_type": "code",
   "execution_count": null,
   "metadata": {},
   "outputs": [],
   "source": [
    "iterated_ls = IteratedLS(penalty_matrix=penalty_matrix, max_time=1, type_search=\"local_search\", ls_type=\"best_improvement\", iterated_type=\"new_clique\", initial_solution_type=\"ris\")\n",
    "iterated_ls.make_iterated_local_search()\n",
    "print_result(iterated_ls.best_solution)\n",
    "print(iterated_ls.value)"
   ]
  },
  {
   "cell_type": "code",
   "execution_count": null,
   "metadata": {},
   "outputs": [],
   "source": [
    "iterated_ls = IteratedLS(penalty_matrix=penalty_matrix, max_time=1, type_search=\"local_search\", ls_type=\"best_improvement\", iterated_type=\"new_clique\", initial_solution_type=\"eis\")\n",
    "iterated_ls.make_iterated_local_search()\n",
    "print_result(iterated_ls.best_solution)\n",
    "print(iterated_ls.value)"
   ]
  },
  {
   "cell_type": "code",
   "execution_count": null,
   "metadata": {},
   "outputs": [],
   "source": [
    "iterated_ls = IteratedLS(penalty_matrix=penalty_matrix, max_time=1, type_search=\"local_search\", ls_type=\"best_improvement\", iterated_type=\"new_clique\", initial_solution_type=\"rcis\")\n",
    "iterated_ls.make_iterated_local_search()\n",
    "print_result(iterated_ls.best_solution)\n",
    "print(iterated_ls.value)"
   ]
  },
  {
   "cell_type": "code",
   "execution_count": null,
   "metadata": {},
   "outputs": [],
   "source": [
    "iterated_ls = IteratedLS(penalty_matrix=penalty_matrix, max_time=1, type_search=\"local_search\", ls_type=\"best_improvement\", iterated_type=\"new_clique\", initial_solution_type=\"rcisrs\")\n",
    "iterated_ls.make_iterated_local_search()\n",
    "print_result(iterated_ls.best_solution)\n",
    "print(iterated_ls.value)"
   ]
  },
  {
   "cell_type": "code",
   "execution_count": null,
   "metadata": {},
   "outputs": [],
   "source": [
    "iterated_ls = IteratedLS(penalty_matrix=penalty_matrix, max_time=1, type_search=\"local_search\", ls_type=\"best_improvement\", iterated_type=\"new_clique\", initial_solution_type=\"best\")\n",
    "iterated_ls.make_iterated_local_search()\n",
    "print_result(iterated_ls.best_solution)\n",
    "print(iterated_ls.value)"
   ]
  },
  {
   "cell_type": "markdown",
   "metadata": {},
   "source": [
    "###### Clique combination pertubation"
   ]
  },
  {
   "cell_type": "markdown",
   "metadata": {},
   "source": [
    "Best improvement"
   ]
  },
  {
   "cell_type": "code",
   "execution_count": null,
   "metadata": {},
   "outputs": [],
   "source": [
    "iterated_ls = IteratedLS(penalty_matrix=penalty_matrix, max_time=1, type_search=\"local_search\", ls_type=\"best_improvement\", iterated_type=\"clique_combination\", initial_solution_type=\"ris\")\n",
    "iterated_ls.make_iterated_local_search()\n",
    "print_result(iterated_ls.best_solution)\n",
    "print(iterated_ls.value)"
   ]
  },
  {
   "cell_type": "code",
   "execution_count": null,
   "metadata": {},
   "outputs": [],
   "source": [
    "iterated_ls = IteratedLS(penalty_matrix=penalty_matrix, max_time=1, type_search=\"local_search\", ls_type=\"best_improvement\", iterated_type=\"clique_combination\", initial_solution_type=\"eis\")\n",
    "iterated_ls.make_iterated_local_search()\n",
    "print_result(iterated_ls.best_solution)\n",
    "print(iterated_ls.value)"
   ]
  },
  {
   "cell_type": "code",
   "execution_count": null,
   "metadata": {},
   "outputs": [],
   "source": [
    "iterated_ls = IteratedLS(penalty_matrix=penalty_matrix, max_time=1, type_search=\"local_search\", ls_type=\"best_improvement\", iterated_type=\"clique_combination\", initial_solution_type=\"rcis\")\n",
    "iterated_ls.make_iterated_local_search()\n",
    "print_result(iterated_ls.best_solution)\n",
    "print(iterated_ls.value)"
   ]
  },
  {
   "cell_type": "code",
   "execution_count": null,
   "metadata": {},
   "outputs": [],
   "source": [
    "iterated_ls = IteratedLS(penalty_matrix=penalty_matrix, max_time=1, type_search=\"local_search\", ls_type=\"best_improvement\", iterated_type=\"clique_combination\", initial_solution_type=\"rcisrs\")\n",
    "iterated_ls.make_iterated_local_search()\n",
    "print_result(iterated_ls.best_solution)\n",
    "print(iterated_ls.value)"
   ]
  },
  {
   "cell_type": "code",
   "execution_count": null,
   "metadata": {},
   "outputs": [],
   "source": [
    "iterated_ls = IteratedLS(penalty_matrix=penalty_matrix, max_time=1, type_search=\"local_search\", ls_type=\"best_improvement\", iterated_type=\"clique_combination\", initial_solution_type=\"best\")\n",
    "iterated_ls.make_iterated_local_search()\n",
    "print_result(iterated_ls.best_solution)\n",
    "print(iterated_ls.value)"
   ]
  },
  {
   "cell_type": "markdown",
   "metadata": {},
   "source": [
    "##### Apllying the iterated local search with random local search"
   ]
  },
  {
   "cell_type": "markdown",
   "metadata": {},
   "source": [
    "We are just testing the methods, so here we going to use a fixed value for p and k. With p = 0.3 and k = 10."
   ]
  },
  {
   "cell_type": "markdown",
   "metadata": {},
   "source": [
    "###### New clique pertubation"
   ]
  },
  {
   "cell_type": "markdown",
   "metadata": {},
   "source": [
    "First improvement"
   ]
  },
  {
   "cell_type": "code",
   "execution_count": null,
   "metadata": {},
   "outputs": [],
   "source": [
    "iterated_ls = IteratedLS(penalty_matrix=penalty_matrix, max_time=1, type_search=\"rdn_ls\", ls_type=\"first_improvement\", iterated_type=\"new_clique\", initial_solution_type=\"ris\", p=0.3, k=10)\n",
    "iterated_ls.make_iterated_local_search()\n",
    "print_result(iterated_ls.best_solution)\n",
    "print(iterated_ls.value)"
   ]
  },
  {
   "cell_type": "code",
   "execution_count": null,
   "metadata": {},
   "outputs": [],
   "source": [
    "iterated_ls = IteratedLS(penalty_matrix=penalty_matrix, max_time=1, type_search=\"rdn_ls\", ls_type=\"first_improvement\", iterated_type=\"new_clique\", initial_solution_type=\"eis\", p=0.3, k=10)\n",
    "iterated_ls.make_iterated_local_search()\n",
    "print_result(iterated_ls.best_solution)\n",
    "print(iterated_ls.value)"
   ]
  },
  {
   "cell_type": "code",
   "execution_count": null,
   "metadata": {},
   "outputs": [],
   "source": [
    "iterated_ls = IteratedLS(penalty_matrix=penalty_matrix, max_time=1, type_search=\"rdn_ls\", ls_type=\"first_improvement\", iterated_type=\"new_clique\", initial_solution_type=\"rcis\", p=0.3, k=10)\n",
    "iterated_ls.make_iterated_local_search()\n",
    "print_result(iterated_ls.best_solution)\n",
    "print(iterated_ls.value)"
   ]
  },
  {
   "cell_type": "code",
   "execution_count": null,
   "metadata": {},
   "outputs": [],
   "source": [
    "iterated_ls = IteratedLS(penalty_matrix=penalty_matrix, max_time=1, type_search=\"rdn_ls\", ls_type=\"first_improvement\", iterated_type=\"new_clique\", initial_solution_type=\"rcisrs\", p=0.3, k=10)\n",
    "iterated_ls.make_iterated_local_search()\n",
    "print_result(iterated_ls.best_solution)\n",
    "print(iterated_ls.value)"
   ]
  },
  {
   "cell_type": "code",
   "execution_count": null,
   "metadata": {},
   "outputs": [],
   "source": [
    "iterated_ls = IteratedLS(penalty_matrix=penalty_matrix, max_time=1, type_search=\"rdn_ls\", ls_type=\"first_improvement\", iterated_type=\"new_clique\", initial_solution_type=\"best\", p=0.3, k=10)\n",
    "iterated_ls.make_iterated_local_search()\n",
    "print_result(iterated_ls.best_solution)\n",
    "print(iterated_ls.value)"
   ]
  },
  {
   "cell_type": "markdown",
   "metadata": {},
   "source": [
    "###### Clique combination pertubation"
   ]
  },
  {
   "cell_type": "markdown",
   "metadata": {},
   "source": [
    "First improvement"
   ]
  },
  {
   "cell_type": "code",
   "execution_count": null,
   "metadata": {},
   "outputs": [],
   "source": [
    "iterated_ls = IteratedLS(penalty_matrix=penalty_matrix, max_time=1, type_search=\"rdn_ls\", ls_type=\"first_improvement\", iterated_type=\"clique_combination\", initial_solution_type=\"ris\", p=0.3, k=10)\n",
    "iterated_ls.make_iterated_local_search()\n",
    "print_result(iterated_ls.best_solution)\n",
    "print(iterated_ls.value)"
   ]
  },
  {
   "cell_type": "code",
   "execution_count": null,
   "metadata": {},
   "outputs": [],
   "source": [
    "iterated_ls = IteratedLS(penalty_matrix=penalty_matrix, max_time=1, type_search=\"rdn_ls\", ls_type=\"first_improvement\", iterated_type=\"clique_combination\", initial_solution_type=\"eis\", p=0.3, k=10)\n",
    "iterated_ls.make_iterated_local_search()\n",
    "print_result(iterated_ls.best_solution)\n",
    "print(iterated_ls.value)"
   ]
  },
  {
   "cell_type": "code",
   "execution_count": null,
   "metadata": {},
   "outputs": [],
   "source": [
    "iterated_ls = IteratedLS(penalty_matrix=penalty_matrix, max_time=1, type_search=\"rdn_ls\", ls_type=\"first_improvement\", iterated_type=\"clique_combination\", initial_solution_type=\"rcis\", p=0.3, k=10)\n",
    "iterated_ls.make_iterated_local_search()\n",
    "print_result(iterated_ls.best_solution)\n",
    "print(iterated_ls.value)"
   ]
  },
  {
   "cell_type": "code",
   "execution_count": null,
   "metadata": {},
   "outputs": [],
   "source": [
    "iterated_ls = IteratedLS(penalty_matrix=penalty_matrix, max_time=1, type_search=\"rdn_ls\", ls_type=\"first_improvement\", iterated_type=\"clique_combination\", initial_solution_type=\"rcisrs\", p=0.3, k=10)\n",
    "iterated_ls.make_iterated_local_search()\n",
    "print_result(iterated_ls.best_solution)\n",
    "print(iterated_ls.value)"
   ]
  },
  {
   "cell_type": "code",
   "execution_count": null,
   "metadata": {},
   "outputs": [],
   "source": [
    "iterated_ls = IteratedLS(penalty_matrix=penalty_matrix, max_time=1, type_search=\"rdn_ls\", ls_type=\"first_improvement\", iterated_type=\"clique_combination\", initial_solution_type=\"best\", p=0.3, k=10)\n",
    "iterated_ls.make_iterated_local_search()\n",
    "print_result(iterated_ls.best_solution)\n",
    "print(iterated_ls.value)"
   ]
  },
  {
   "cell_type": "markdown",
   "metadata": {},
   "source": [
    "###### New clique pertubation"
   ]
  },
  {
   "cell_type": "markdown",
   "metadata": {},
   "source": [
    "Best improvement"
   ]
  },
  {
   "cell_type": "code",
   "execution_count": null,
   "metadata": {},
   "outputs": [],
   "source": [
    "iterated_ls = IteratedLS(penalty_matrix=penalty_matrix, max_time=1, type_search=\"rdn_ls\", ls_type=\"best_improvement\", iterated_type=\"new_clique\", initial_solution_type=\"ris\", p=0.3, k=10)\n",
    "iterated_ls.make_iterated_local_search()\n",
    "print_result(iterated_ls.best_solution)\n",
    "print(iterated_ls.value)"
   ]
  },
  {
   "cell_type": "code",
   "execution_count": null,
   "metadata": {},
   "outputs": [],
   "source": [
    "iterated_ls = IteratedLS(penalty_matrix=penalty_matrix, max_time=1, type_search=\"rdn_ls\", ls_type=\"best_improvement\", iterated_type=\"new_clique\", initial_solution_type=\"eis\", p=0.3, k=10)\n",
    "iterated_ls.make_iterated_local_search()\n",
    "print_result(iterated_ls.best_solution)\n",
    "print(iterated_ls.value)"
   ]
  },
  {
   "cell_type": "code",
   "execution_count": null,
   "metadata": {},
   "outputs": [],
   "source": [
    "iterated_ls = IteratedLS(penalty_matrix=penalty_matrix, max_time=1, type_search=\"rdn_ls\", ls_type=\"best_improvement\", iterated_type=\"new_clique\", initial_solution_type=\"rcis\", p=0.3, k=10)\n",
    "iterated_ls.make_iterated_local_search()\n",
    "print_result(iterated_ls.best_solution)\n",
    "print(iterated_ls.value)"
   ]
  },
  {
   "cell_type": "code",
   "execution_count": null,
   "metadata": {},
   "outputs": [],
   "source": [
    "iterated_ls = IteratedLS(penalty_matrix=penalty_matrix, max_time=1, type_search=\"rdn_ls\", ls_type=\"best_improvement\", iterated_type=\"new_clique\", initial_solution_type=\"rcisrs\", p=0.3, k=10)\n",
    "iterated_ls.make_iterated_local_search()\n",
    "print_result(iterated_ls.best_solution)\n",
    "print(iterated_ls.value)"
   ]
  },
  {
   "cell_type": "code",
   "execution_count": null,
   "metadata": {},
   "outputs": [],
   "source": [
    "iterated_ls = IteratedLS(penalty_matrix=penalty_matrix, max_time=1, type_search=\"rdn_ls\", ls_type=\"best_improvement\", iterated_type=\"new_clique\", initial_solution_type=\"best\", p=0.3, k=10)\n",
    "iterated_ls.make_iterated_local_search()\n",
    "print_result(iterated_ls.best_solution)\n",
    "print(iterated_ls.value)"
   ]
  },
  {
   "cell_type": "markdown",
   "metadata": {},
   "source": [
    "###### Clique combination pertubation"
   ]
  },
  {
   "cell_type": "markdown",
   "metadata": {},
   "source": [
    "Best improvement"
   ]
  },
  {
   "cell_type": "code",
   "execution_count": null,
   "metadata": {},
   "outputs": [],
   "source": [
    "iterated_ls = IteratedLS(penalty_matrix=penalty_matrix, max_time=1, type_search=\"rdn_ls\", ls_type=\"best_improvement\", iterated_type=\"clique_combination\", initial_solution_type=\"ris\", p=0.3, k=10)\n",
    "iterated_ls.make_iterated_local_search()\n",
    "print_result(iterated_ls.best_solution)\n",
    "print(iterated_ls.value)"
   ]
  },
  {
   "cell_type": "code",
   "execution_count": null,
   "metadata": {},
   "outputs": [],
   "source": [
    "iterated_ls = IteratedLS(penalty_matrix=penalty_matrix, max_time=1, type_search=\"rdn_ls\", ls_type=\"best_improvement\", iterated_type=\"clique_combination\", initial_solution_type=\"eis\", p=0.3, k=10)\n",
    "iterated_ls.make_iterated_local_search()\n",
    "print_result(iterated_ls.best_solution)\n",
    "print(iterated_ls.value)"
   ]
  },
  {
   "cell_type": "code",
   "execution_count": null,
   "metadata": {},
   "outputs": [],
   "source": [
    "iterated_ls = IteratedLS(penalty_matrix=penalty_matrix, max_time=1, type_search=\"rdn_ls\", ls_type=\"best_improvement\", iterated_type=\"clique_combination\", initial_solution_type=\"rcis\", p=0.3, k=10)\n",
    "iterated_ls.make_iterated_local_search()\n",
    "print_result(iterated_ls.best_solution)\n",
    "print(iterated_ls.value)"
   ]
  },
  {
   "cell_type": "code",
   "execution_count": null,
   "metadata": {},
   "outputs": [],
   "source": [
    "iterated_ls = IteratedLS(penalty_matrix=penalty_matrix, max_time=1, type_search=\"rdn_ls\", ls_type=\"best_improvement\", iterated_type=\"clique_combination\", initial_solution_type=\"rcisrs\", p=0.3, k=10)\n",
    "iterated_ls.make_iterated_local_search()\n",
    "print_result(iterated_ls.best_solution)\n",
    "print(iterated_ls.value)"
   ]
  },
  {
   "cell_type": "code",
   "execution_count": null,
   "metadata": {},
   "outputs": [],
   "source": [
    "iterated_ls = IteratedLS(penalty_matrix=penalty_matrix, max_time=1, type_search=\"rdn_ls\", ls_type=\"best_improvement\", iterated_type=\"clique_combination\", initial_solution_type=\"best\", p=0.3, k=10)\n",
    "iterated_ls.make_iterated_local_search()\n",
    "print_result(iterated_ls.best_solution)\n",
    "print(iterated_ls.value)"
   ]
  }
 ],
 "metadata": {
  "kernelspec": {
   "display_name": "Python 3",
   "language": "python",
   "name": "python3"
  },
  "language_info": {
   "codemirror_mode": {
    "name": "ipython",
    "version": 3
   },
   "file_extension": ".py",
   "mimetype": "text/x-python",
   "name": "python",
   "nbconvert_exporter": "python",
   "pygments_lexer": "ipython3",
   "version": "3.6.5"
  }
 },
 "nbformat": 4,
 "nbformat_minor": 2
}
