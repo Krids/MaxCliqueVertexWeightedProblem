{
 "cells": [
  {
   "cell_type": "markdown",
   "metadata": {},
   "source": [
    "# Maximum Vertex Weighted Clique Problem"
   ]
  },
  {
   "cell_type": "markdown",
   "metadata": {},
   "source": [
    "For this problem we will first load the instance that we will work using the Networkx library, then we will transform the loaded graphs into an penalty matrix that will be a square matrix nxn where n is the number of vertices in the instance. Each position of the array will receive 0 if there is an edge connecting the vertices and the penalty (-1000) if there is no edge connecting the vertices. The matrix will be triangular and the down side of the diagonal will be loaded with 0s."
   ]
  },
  {
   "cell_type": "code",
   "execution_count": 1,
   "metadata": {},
   "outputs": [],
   "source": [
    "# Imports\n",
    "import matplotlib.pyplot as plt\n",
    "import Utils as utils\n",
    "from LocalSearch import LocalSearch\n",
    "from InitialSolution import InitialSolution\n",
    "from IteratedLS import IteratedLS\n",
    "from RandomLS import RandomLS\n",
    "import numpy as np\n",
    "from scipy import optimize\n",
    "\n",
    "%matplotlib inline"
   ]
  },
  {
   "cell_type": "markdown",
   "metadata": {},
   "source": [
    "### Loading the penalty matrix based on the complement matrix of the adjacency matrix created by the graphs instance"
   ]
  },
  {
   "cell_type": "code",
   "execution_count": 2,
   "metadata": {},
   "outputs": [
    {
     "name": "stdout",
     "output_type": "stream",
     "text": [
      "[[ 0.  0.  0. ...,  1.  1.  1.]\n",
      " [ 0.  0.  1. ...,  0.  0.  0.]\n",
      " [ 0.  1.  0. ...,  0.  0.  0.]\n",
      " ..., \n",
      " [ 1.  0.  0. ...,  0.  1.  1.]\n",
      " [ 1.  0.  0. ...,  1.  0.  1.]\n",
      " [ 1.  0.  0. ...,  1.  1.  0.]]\n"
     ]
    }
   ],
   "source": [
    "complement_matrix = utils.find_complement_matrix(\"data/frb30-15-1.clq\")"
   ]
  },
  {
   "cell_type": "code",
   "execution_count": 3,
   "metadata": {},
   "outputs": [],
   "source": [
    "penalty_matrix = utils.apply_preparations(complement_matrix)"
   ]
  },
  {
   "cell_type": "code",
   "execution_count": 4,
   "metadata": {},
   "outputs": [
    {
     "name": "stdout",
     "output_type": "stream",
     "text": [
      "[[    1.     0.     0. ..., -1000. -1000. -1000.]\n",
      " [    0.     2. -1000. ...,     0.     0.     0.]\n",
      " [    0.     0.     3. ...,     0.     0.     0.]\n",
      " ..., \n",
      " [    0.     0.     0. ...,    48. -1000. -1000.]\n",
      " [    0.     0.     0. ...,     0.    49. -1000.]\n",
      " [    0.     0.     0. ...,     0.     0.    50.]]\n"
     ]
    }
   ],
   "source": [
    "print(penalty_matrix)"
   ]
  },
  {
   "cell_type": "markdown",
   "metadata": {},
   "source": [
    "### Get the initial solution"
   ]
  },
  {
   "cell_type": "code",
   "execution_count": 5,
   "metadata": {},
   "outputs": [],
   "source": [
    "initial_solution = InitialSolution(penalty_matrix, \"ris\")\n",
    "is_rdn = initial_solution.get_initial_solution()\n",
    "\n",
    "initial_solution = InitialSolution(penalty_matrix, \"eis\")\n",
    "is_empty = initial_solution.get_initial_solution()\n",
    "\n",
    "initial_solution = InitialSolution(penalty_matrix, \"rcis\")\n",
    "is_rdn_clique = initial_solution.get_initial_solution()\n",
    "\n",
    "initial_solution = InitialSolution(penalty_matrix, \"rcisrs\")\n",
    "is_rdn_clique_rdn_start = initial_solution.get_initial_solution()\n",
    "\n",
    "initial_solution = InitialSolution(penalty_matrix, \"best\")\n",
    "is_rdn_clique_rdn_walking = initial_solution.get_initial_solution()"
   ]
  },
  {
   "cell_type": "markdown",
   "metadata": {},
   "source": [
    "##### Random initial solution"
   ]
  },
  {
   "cell_type": "code",
   "execution_count": 6,
   "metadata": {},
   "outputs": [
    {
     "name": "stdout",
     "output_type": "stream",
     "text": [
      "011100010001100111011110101110010111101011111000111011110000111101010011101011011011101011011000110010001001011111110011110001101010100000010001011001110101110000100001110001011000010100001100100111111110101000000100111011101011110011111110100111000111101000111000010001111000000011011011100101011011011101110100010110010110111110111000101110010000100101110001111110001110110011000110001000101011111100111011100010010111111111011010001001000101011011"
     ]
    }
   ],
   "source": [
    "for i in range(is_rdn.shape[1]):\n",
    "    print(int(is_rdn[0, i]), end=\"\")"
   ]
  },
  {
   "cell_type": "markdown",
   "metadata": {},
   "source": [
    "##### Empty initial solution (all 0)"
   ]
  },
  {
   "cell_type": "code",
   "execution_count": 7,
   "metadata": {},
   "outputs": [
    {
     "name": "stdout",
     "output_type": "stream",
     "text": [
      "000000000000000000000000000000000000000000000000000000000000000000000000000000000000000000000000000000000000000000000000000000000000000000000000000000000000000000000000000000000000000000000000000000000000000000000000000000000000000000000000000000000000000000000000000000000000000000000000000000000000000000000000000000000000000000000000000000000000000000000000000000000000000000000000000000000000000000000000000000000000000000000000000000000000000000"
     ]
    }
   ],
   "source": [
    "for i in range(is_empty.shape[1]):\n",
    "    print(int(is_empty[0, i]), end=\"\")"
   ]
  },
  {
   "cell_type": "markdown",
   "metadata": {},
   "source": [
    "##### Random clique initial solution"
   ]
  },
  {
   "cell_type": "code",
   "execution_count": 8,
   "metadata": {},
   "outputs": [
    {
     "name": "stdout",
     "output_type": "stream",
     "text": [
      "100000000001100000000000100000000000001000000000000000000000000000001000000100000000000010000000000000010000000000000000000000000000000000000100000000100000000000100000001000000000000001000000000000000000000001000000000000000000000010000001000000000000000000000000000000000000010000010000000000000000001000010000000000000000000000000000000000000000000000000001000000000000000000000000000000000000000000000000000000000000000000000000000000000000000000"
     ]
    }
   ],
   "source": [
    "for i in range(is_rdn_clique.shape[1]):\n",
    "    print(int(is_rdn_clique[0, i]), end=\"\")"
   ]
  },
  {
   "cell_type": "markdown",
   "metadata": {},
   "source": [
    "##### Random clique initial solution with random start"
   ]
  },
  {
   "cell_type": "code",
   "execution_count": 9,
   "metadata": {},
   "outputs": [
    {
     "name": "stdout",
     "output_type": "stream",
     "text": [
      "000000000000000000000000000000000000000000000000000000000000000000000100000100000000000010000000000000100000000000000000100000000000010000000000000000010000100000000000100000000000000000001000000000000000000000000001000000000010000000000000000000010000010000000000000000000001000000000000000000001000000000000100000000000001000000000001000000000000000000000000000000000000000000000000000000000000100000001000000000000000000000000010000000000000000000"
     ]
    }
   ],
   "source": [
    "for i in range(is_rdn_clique_rdn_start.shape[1]):\n",
    "    print(int(is_rdn_clique_rdn_start[0, i]), end=\"\")"
   ]
  },
  {
   "cell_type": "markdown",
   "metadata": {},
   "source": [
    "##### Random clique initial solution with random walking"
   ]
  },
  {
   "cell_type": "code",
   "execution_count": 10,
   "metadata": {},
   "outputs": [
    {
     "name": "stdout",
     "output_type": "stream",
     "text": [
      "000100000000000000000000000000000000100000000000000000000000001000000000000000000010000000000000000010000000000000000000001000000000010000000000000000010000000010000000000000001000000000000000000000000000000000000000000000000010000000000000000000000010000100000000000000000000001000100000000000000100000000000000000000000000000000010000000010000001000000000000000000000000000000000000000000000000000000000000000000100000000000000010000100000000000000"
     ]
    }
   ],
   "source": [
    "for i in range(is_rdn_clique_rdn_walking.shape[1]):\n",
    "    print(int(is_rdn_clique_rdn_walking[0, i]), end=\"\")"
   ]
  },
  {
   "cell_type": "markdown",
   "metadata": {},
   "source": [
    "### Applying the Local Search    "
   ]
  },
  {
   "cell_type": "code",
   "execution_count": 2,
   "metadata": {},
   "outputs": [],
   "source": [
    "def print_result(solution):\n",
    "    for i in range(solution.shape[1]):\n",
    "        print(int(solution[0, i]), end=\"\")\n",
    "    print(\"\\n\")"
   ]
  },
  {
   "cell_type": "markdown",
   "metadata": {},
   "source": [
    "##### Best improvement local search"
   ]
  },
  {
   "cell_type": "code",
   "execution_count": 12,
   "metadata": {},
   "outputs": [
    {
     "name": "stdout",
     "output_type": "stream",
     "text": [
      "000000000000000010000000000010000000000000000000000000000000000000000000000000000001000000000000000000000000000000000001000000000000000000000000000001000000000000000001100000000000000000000000100000000000000000000000000000001000000000000000000000000010000000010000000000000000000000000000000000000000000100000000000000000100000000100000001000000000100000000000000000001000000001000000000000000010001000000000000000000000100000000000000000000000000000\n",
      "\n",
      "2473.0\n"
     ]
    }
   ],
   "source": [
    "ls_bi = LocalSearch(initial_solution=is_rdn, penalty_matrix=penalty_matrix, ls_type=\"best_improvement\")\n",
    "ls_bi.make_local_search()\n",
    "print_result(ls_bi.solution.solution)\n",
    "print(ls_bi.solution.value)"
   ]
  },
  {
   "cell_type": "code",
   "execution_count": 13,
   "metadata": {},
   "outputs": [
    {
     "name": "stdout",
     "output_type": "stream",
     "text": [
      "000000000000000000000000000000000000000000000000000000000000000000000000000000000000000000000000000000000000000000000000000000000000000000000010000000000000000000000000000000000000001000000000001000010000000000000000000000000000001000000000000000000000000000001000000000000010000000000000000000000000100000000000000000000100000000000010000000000000000001000000010000000000001100000010110000010000010100000000000000000000000000000000000000000000000000\n",
      "\n",
      "3057.0\n"
     ]
    }
   ],
   "source": [
    "ls_bi = LocalSearch(initial_solution=is_empty, penalty_matrix=penalty_matrix, ls_type=\"best_improvement\")\n",
    "ls_bi.make_local_search()\n",
    "print_result(ls_bi.solution.solution)\n",
    "print(ls_bi.solution.value)"
   ]
  },
  {
   "cell_type": "code",
   "execution_count": 14,
   "metadata": {},
   "outputs": [
    {
     "name": "stdout",
     "output_type": "stream",
     "text": [
      "100000000001100000000000100000000000001000000000000000000000000000001000000100000000000010000000000000010000000000000000000000000000000000000100000000100000000000100000001000000000000001000000000000000000000001000000000000000000000010000001000000000000000000000000000000000000010000010000000000000000001000010000000000000000000000000000000000000000000000000001000000000000000000000000000000000000000000000000000000000000000000000000000000000000000000\n",
      "\n",
      "1857.0\n"
     ]
    }
   ],
   "source": [
    "ls_bi = LocalSearch(initial_solution=is_rdn_clique, penalty_matrix=penalty_matrix, ls_type=\"best_improvement\")\n",
    "ls_bi.make_local_search()\n",
    "print_result(ls_bi.solution.solution)\n",
    "print(ls_bi.solution.value)"
   ]
  },
  {
   "cell_type": "code",
   "execution_count": 15,
   "metadata": {},
   "outputs": [
    {
     "name": "stdout",
     "output_type": "stream",
     "text": [
      "000000000000000000000000000000000000000000000000000000000000000000000100000100000000000010000000000000100000000000000000100000000000010000000000000000010000100000000000100000000000000000001000000000000000000000000001000000000010000000000000000000010000010000000000000000000001000000000000000000001000000000000100000000000001000000000001000000000000000000000000000000000000000000000000000000000000100000001000000000000000000000000010000000000000000000\n",
      "\n",
      "2181.0\n"
     ]
    }
   ],
   "source": [
    "ls_bi = LocalSearch(initial_solution=is_rdn_clique_rdn_start, penalty_matrix=penalty_matrix, ls_type=\"best_improvement\")\n",
    "ls_bi.make_local_search()\n",
    "print_result(ls_bi.solution.solution)\n",
    "print(ls_bi.solution.value)"
   ]
  },
  {
   "cell_type": "code",
   "execution_count": 16,
   "metadata": {},
   "outputs": [
    {
     "name": "stdout",
     "output_type": "stream",
     "text": [
      "000100000000000000000000000000000000100000000000000000000000001000000000000000000010000000000000000010000000000000000000001000000000010000000000000000010000000010000000000000001000000000000000000000000000000000000000000000000010000000000000000000000010000100000000000000000000001000100000000000000100000000000000000000000000000000010000000010000001000000000000000000000000000000000000000000000000000000000000000000100000000000000010000100000000000000\n",
      "\n",
      "1932.0\n"
     ]
    }
   ],
   "source": [
    "ls_bi = LocalSearch(initial_solution=is_rdn_clique_rdn_walking, penalty_matrix=penalty_matrix, ls_type=\"best_improvement\")\n",
    "ls_bi.make_local_search()\n",
    "print_result(ls_bi.solution.solution)\n",
    "print(ls_bi.solution.value)"
   ]
  },
  {
   "cell_type": "markdown",
   "metadata": {},
   "source": [
    "##### First improvement local search"
   ]
  },
  {
   "cell_type": "code",
   "execution_count": 17,
   "metadata": {},
   "outputs": [
    {
     "name": "stdout",
     "output_type": "stream",
     "text": [
      "000000000000000010000000000010000000000000000000000000000000000000000000000000000001000000000000000000000000000000000001000000000000000000000000000001000000000000000001100000000000000000000000100000000000000000000000000000001000000000000000000000000010000000010000000000000000000000000000000000000000000100000000000000000100000000100000001000000000100000000000000000001000000001000000000000000010001000000000000000000000100000000000000000000000000000\n",
      "\n",
      "2473.0\n"
     ]
    }
   ],
   "source": [
    "ls_fi = LocalSearch(initial_solution=is_rdn, penalty_matrix=penalty_matrix, ls_type=\"first_improvement\")\n",
    "ls_fi.make_local_search()\n",
    "print_result(ls_fi.solution.solution)\n",
    "print(ls_fi.solution.value)"
   ]
  },
  {
   "cell_type": "code",
   "execution_count": 18,
   "metadata": {},
   "outputs": [
    {
     "name": "stdout",
     "output_type": "stream",
     "text": [
      "000000000000000000000000000000000000000000000000000000000000000000000000000000000000000000000000000000000000000000000000000000000000000000000010000000000000000000000000000000000000001000000000001000010000000000000000000000000000001000000000000000000000000000001000000000000010000000000000000000000000100000000000000000000100000000000010000000000000000001000000010000000000001100000010110000010000010100000000000000000000000000000000000000000000000000\n",
      "\n",
      "3057.0\n"
     ]
    }
   ],
   "source": [
    "ls_fi = LocalSearch(initial_solution=is_empty, penalty_matrix=penalty_matrix, ls_type=\"first_improvement\")\n",
    "ls_fi.make_local_search()\n",
    "print_result(ls_fi.solution.solution)\n",
    "print(ls_fi.solution.value)"
   ]
  },
  {
   "cell_type": "code",
   "execution_count": 19,
   "metadata": {},
   "outputs": [
    {
     "name": "stdout",
     "output_type": "stream",
     "text": [
      "100000000001100000000000100000000000001000000000000000000000000000001000000100000000000010000000000000010000000000000000000000000000000000000100000000100000000000100000001000000000000001000000000000000000000001000000000000000000000010000001000000000000000000000000000000000000010000010000000000000000001000010000000000000000000000000000000000000000000000000001000000000000000000000000000000000000000000000000000000000000000000000000000000000000000000\n",
      "\n",
      "1857.0\n"
     ]
    }
   ],
   "source": [
    "ls_fi = LocalSearch(initial_solution=is_rdn_clique, penalty_matrix=penalty_matrix, ls_type=\"first_improvement\")\n",
    "ls_fi.make_local_search()\n",
    "print_result(ls_fi.solution.solution)\n",
    "print(ls_fi.solution.value)"
   ]
  },
  {
   "cell_type": "code",
   "execution_count": 20,
   "metadata": {},
   "outputs": [
    {
     "name": "stdout",
     "output_type": "stream",
     "text": [
      "000000000000000000000000000000000000000000000000000000000000000000000100000100000000000010000000000000100000000000000000100000000000010000000000000000010000100000000000100000000000000000001000000000000000000000000001000000000010000000000000000000010000010000000000000000000001000000000000000000001000000000000100000000000001000000000001000000000000000000000000000000000000000000000000000000000000100000001000000000000000000000000010000000000000000000\n",
      "\n",
      "2181.0\n"
     ]
    }
   ],
   "source": [
    "ls_fi = LocalSearch(initial_solution=is_rdn_clique_rdn_start, penalty_matrix=penalty_matrix, ls_type=\"first_improvement\")\n",
    "ls_fi.make_local_search()\n",
    "print_result(ls_fi.solution.solution)\n",
    "print(ls_fi.solution.value)"
   ]
  },
  {
   "cell_type": "code",
   "execution_count": 21,
   "metadata": {},
   "outputs": [
    {
     "name": "stdout",
     "output_type": "stream",
     "text": [
      "000100000000000000000000000000000000100000000000000000000000001000000000000000000010000000000000000010000000000000000000001000000000010000000000000000010000000010000000000000001000000000000000000000000000000000000000000000000010000000000000000000000010000100000000000000000000001000100000000000000100000000000000000000000000000000010000000010000001000000000000000000000000000000000000000000000000000000000000000000100000000000000010000100000000000000\n",
      "\n",
      "1932.0\n"
     ]
    }
   ],
   "source": [
    "ls_fi = LocalSearch(initial_solution=is_rdn_clique_rdn_walking, penalty_matrix=penalty_matrix, ls_type=\"first_improvement\")\n",
    "ls_fi.make_local_search()\n",
    "print_result(ls_fi.solution.solution)\n",
    "print(ls_fi.solution.value)"
   ]
  },
  {
   "cell_type": "markdown",
   "metadata": {},
   "source": [
    "### Applying the iterated local search"
   ]
  },
  {
   "cell_type": "markdown",
   "metadata": {},
   "source": [
    "##### Applying the iterated local search with simple local search"
   ]
  },
  {
   "cell_type": "markdown",
   "metadata": {},
   "source": [
    "###### New clique pertubation"
   ]
  },
  {
   "cell_type": "markdown",
   "metadata": {},
   "source": [
    "First improvement"
   ]
  },
  {
   "cell_type": "code",
   "execution_count": 22,
   "metadata": {},
   "outputs": [
    {
     "name": "stdout",
     "output_type": "stream",
     "text": [
      "000000000000100000000000010000000000000100000000000000000000000000000000000000000000000010000000000000000000001000000010000000000000000000100000000000000010000100000000000000000010000000000100000000000000000000000000000000000000000000100000000001000000000000001000000000000010000000000000000000000000100000001000000000000000100000000000000000000000000000000000010000000000000000000000100000000000000010000000000000000000000001000010000000000000000001\n",
      "\n",
      "2228.0\n"
     ]
    }
   ],
   "source": [
    "iterated_ls = IteratedLS(penalty_matrix=penalty_matrix, max_time=1, type_search=\"local_search\", ls_type=\"first_improvement\", iterated_type=\"new_clique\", initial_solution_type=\"ris\")\n",
    "iterated_ls.make_iterated_local_search()\n",
    "print_result(iterated_ls.best_solution)\n",
    "print(iterated_ls.value)"
   ]
  },
  {
   "cell_type": "code",
   "execution_count": 23,
   "metadata": {},
   "outputs": [
    {
     "name": "stdout",
     "output_type": "stream",
     "text": [
      "110000000000100000000000010000000000001000000000000000010000000000001000000000001000000010000000000000010000000000000000000010000000000000000100000000100000000000000001001000000000000000000100000000000000000000000000000000001000000000000000000000000000001000000000000001000000000000000000100000000000000000000000000000000000000000000100000000000000000000000001000000000000000000000000000000000000000000000000000000000000000000000000000000000000000000\n",
      "\n",
      "1960.0\n"
     ]
    }
   ],
   "source": [
    "iterated_ls = IteratedLS(penalty_matrix=penalty_matrix, max_time=1, type_search=\"local_search\", ls_type=\"first_improvement\", iterated_type=\"new_clique\", initial_solution_type=\"eis\")\n",
    "iterated_ls.make_iterated_local_search()\n",
    "print_result(iterated_ls.best_solution)\n",
    "print(iterated_ls.value)"
   ]
  },
  {
   "cell_type": "code",
   "execution_count": 24,
   "metadata": {},
   "outputs": [
    {
     "name": "stdout",
     "output_type": "stream",
     "text": [
      "110000000000001000000000010000000000000100000000000000100000000000000010000000010000000010000000000000100000000000000000000010000000000000100000000000000100000010000000001000000000000000000100000000000000000000000000000000001000000000000000000000001000000000000000001001000000000000000000000100000000000000010000000000000010000000000000000000100000000000000000000000000100000000000000000000000000000000000000000000000000000000000000000000000000000000\n",
      "\n",
      "2269.0\n"
     ]
    }
   ],
   "source": [
    "iterated_ls = IteratedLS(penalty_matrix=penalty_matrix, max_time=1, type_search=\"local_search\", ls_type=\"first_improvement\", iterated_type=\"new_clique\", initial_solution_type=\"rcis\")\n",
    "iterated_ls.make_iterated_local_search()\n",
    "print_result(iterated_ls.best_solution)\n",
    "print(iterated_ls.value)"
   ]
  },
  {
   "cell_type": "code",
   "execution_count": 25,
   "metadata": {},
   "outputs": [
    {
     "name": "stdout",
     "output_type": "stream",
     "text": [
      "000000000000000000000000010000000000000000000000000000000000010000000000000000000000000000000100000000000000000000000010000000000000000000000000000000000000000000000000100000000000000000000000000000000000000000000000000000000000000010000000100000000000000000000000000000000001000001000000000000010000000000000010000000000001000000000000001000000010000000000000000100000010000010000011010001000010000000000000000000000000000000000000000000000000000000\n",
      "\n",
      "2769.0\n"
     ]
    }
   ],
   "source": [
    "iterated_ls = IteratedLS(penalty_matrix=penalty_matrix, max_time=1, type_search=\"local_search\", ls_type=\"first_improvement\", iterated_type=\"new_clique\", initial_solution_type=\"rcisrs\")\n",
    "iterated_ls.make_iterated_local_search()\n",
    "print_result(iterated_ls.best_solution)\n",
    "print(iterated_ls.value)"
   ]
  },
  {
   "cell_type": "code",
   "execution_count": 26,
   "metadata": {},
   "outputs": [
    {
     "name": "stdout",
     "output_type": "stream",
     "text": [
      "000000000000100000000000010000000000000000000000000000000000000000000000000001000000000000000000000000000000000000010000000000000000001000000000000000000000000001000000000001000000000000000000010000000010000000000000000000000100000000000000000001000000000000010000000000000000000000000000000000000000000100000000000000000100010000000000000001001000000000000000000001000000000001000000000000000001000100001000000000000000000000000000000100000000000000\n",
      "\n",
      "2453.0\n"
     ]
    }
   ],
   "source": [
    "iterated_ls = IteratedLS(penalty_matrix=penalty_matrix, max_time=1, type_search=\"local_search\", ls_type=\"first_improvement\", iterated_type=\"new_clique\", initial_solution_type=\"best\")\n",
    "iterated_ls.make_iterated_local_search()\n",
    "print_result(iterated_ls.best_solution)\n",
    "print(iterated_ls.value)"
   ]
  },
  {
   "cell_type": "markdown",
   "metadata": {},
   "source": [
    "###### Clique combination pertubation"
   ]
  },
  {
   "cell_type": "markdown",
   "metadata": {},
   "source": [
    "First improvement"
   ]
  },
  {
   "cell_type": "code",
   "execution_count": 27,
   "metadata": {},
   "outputs": [
    {
     "name": "stdout",
     "output_type": "stream",
     "text": [
      "000000000000100000000000000000000000000000000000000000000000000000000000000000000000000000000100000000000000000000000100000000000000000000000000000000000000000100000000001000000000000000000000000000000000000000000000000000100000000000000000000001000000000100000000000000001000000000000001000001000000000000000000000000000000000010000000000100000000000100000000010000000000000001000000000000000000000010000000000000000000001000000110000000000000000001\n",
      "\n",
      "2416.0\n"
     ]
    }
   ],
   "source": [
    "iterated_ls = IteratedLS(penalty_matrix=penalty_matrix, max_time=1, type_search=\"local_search\", ls_type=\"first_improvement\", iterated_type=\"clique_combination\", initial_solution_type=\"ris\")\n",
    "iterated_ls.make_iterated_local_search()\n",
    "print_result(iterated_ls.best_solution)\n",
    "print(iterated_ls.value)"
   ]
  },
  {
   "cell_type": "code",
   "execution_count": 28,
   "metadata": {},
   "outputs": [
    {
     "name": "stdout",
     "output_type": "stream",
     "text": [
      "110000000000100000000000010000000000001000000000000000010000000000001000000000001000000010000000000000010000000000000000000010000000000000000100000000100000000000000001001000000000000000000100000000000000000000000000000000001000000000000000000000000000001000000000000001000000000000000000100000000000000000000000000000000000000000000100000000000000000000000001000000000000000000000000000000000000000000000000000000000000000000000000000000000000000000\n",
      "\n",
      "1960.0\n"
     ]
    }
   ],
   "source": [
    "iterated_ls = IteratedLS(penalty_matrix=penalty_matrix, max_time=1, type_search=\"local_search\", ls_type=\"first_improvement\", iterated_type=\"clique_combination\", initial_solution_type=\"eis\")\n",
    "iterated_ls.make_iterated_local_search()\n",
    "print_result(iterated_ls.best_solution)\n",
    "print(iterated_ls.value)"
   ]
  },
  {
   "cell_type": "code",
   "execution_count": 29,
   "metadata": {},
   "outputs": [
    {
     "name": "stdout",
     "output_type": "stream",
     "text": [
      "010000000000100000000000010000000000000100000000000000000000000000000000010000010000000000000100000000000000000000000000000000000000000000000000000000000000000000010000001000000000000100000000000000000000000000000000000000000000000000100000001000000000000100000000000000000000000000000000001010000000000000000000000000100010000000000000000000100000000000000000100000000000000000000000000000000001000000000000001000000100000000000000000000000000000001\n",
      "\n",
      "2349.0\n"
     ]
    }
   ],
   "source": [
    "iterated_ls = IteratedLS(penalty_matrix=penalty_matrix, max_time=1, type_search=\"local_search\", ls_type=\"first_improvement\", iterated_type=\"clique_combination\", initial_solution_type=\"rcis\")\n",
    "iterated_ls.make_iterated_local_search()\n",
    "print_result(iterated_ls.best_solution)\n",
    "print(iterated_ls.value)"
   ]
  },
  {
   "cell_type": "code",
   "execution_count": 30,
   "metadata": {},
   "outputs": [
    {
     "name": "stdout",
     "output_type": "stream",
     "text": [
      "000000000000000000000000000000000100000000000000000000000000000000000000000100000000000000000000010000000000000000000000000000000000000000000000000000000000100000000000000000000000000000000000000000000000000000000000010000000000000100000001000000000000100000000000000010000000000001000000000000000001000000000000100000000001000000000000000000000000000000000010000000000000000000100000001000001001000000000000000000100000000000000000010000000000000000\n",
      "\n",
      "2101.0\n"
     ]
    }
   ],
   "source": [
    "iterated_ls = IteratedLS(penalty_matrix=penalty_matrix, max_time=1, type_search=\"local_search\", ls_type=\"first_improvement\", iterated_type=\"clique_combination\", initial_solution_type=\"rcisrs\")\n",
    "iterated_ls.make_iterated_local_search()\n",
    "print_result(iterated_ls.best_solution)\n",
    "print(iterated_ls.value)"
   ]
  },
  {
   "cell_type": "code",
   "execution_count": 31,
   "metadata": {},
   "outputs": [
    {
     "name": "stdout",
     "output_type": "stream",
     "text": [
      "000000000010000000000000000001000000000000000000001000000000000000000000000000000000000000000000000000100000000000000000000000000000000000001000000000000010000000000000100000000000000000000000000000000000000000000000000000000000010000000000000010000000000000000001000000000000000010000000010000100000000000010000000000000000000000001000000000000000000100000010000000000000000000000000100000000001000000000000000001000000000000000000000000000000000000\n",
      "\n",
      "2400.0\n"
     ]
    }
   ],
   "source": [
    "iterated_ls = IteratedLS(penalty_matrix=penalty_matrix, max_time=1, type_search=\"local_search\", ls_type=\"first_improvement\", iterated_type=\"clique_combination\", initial_solution_type=\"best\")\n",
    "iterated_ls.make_iterated_local_search()\n",
    "print_result(iterated_ls.best_solution)\n",
    "print(iterated_ls.value)"
   ]
  },
  {
   "cell_type": "markdown",
   "metadata": {},
   "source": [
    "###### New clique pertubation"
   ]
  },
  {
   "cell_type": "markdown",
   "metadata": {},
   "source": [
    "Best improvement"
   ]
  },
  {
   "cell_type": "code",
   "execution_count": 32,
   "metadata": {},
   "outputs": [
    {
     "name": "stdout",
     "output_type": "stream",
     "text": [
      "000000000000000000000000000100000000000000000000000000000000000000000000000000000000000000000000001000000000000000000000000000000000000000000010000000000000000100000000000000000000000000000000010000000000000000000000000000000000000000001000100000000000000000000000001000001000000000000000100000000000000100000000000000000000000000001000000100000100000000000000010000000010010101000001000010000101000100000000000000000000000000000000000000000000000000\n",
      "\n",
      "3278.0\n"
     ]
    }
   ],
   "source": [
    "iterated_ls = IteratedLS(penalty_matrix=penalty_matrix, max_time=1, type_search=\"local_search\", ls_type=\"best_improvement\", iterated_type=\"new_clique\", initial_solution_type=\"ris\")\n",
    "iterated_ls.make_iterated_local_search()\n",
    "print_result(iterated_ls.best_solution)\n",
    "print(iterated_ls.value)"
   ]
  },
  {
   "cell_type": "code",
   "execution_count": 33,
   "metadata": {},
   "outputs": [
    {
     "name": "stdout",
     "output_type": "stream",
     "text": [
      "000000000000000000000000000000000000000000000000000000000000000000000000000000000000000000000000000000000000000000000000000000000000000000000010000000000000000000000000000000000000001000000000001000010000000000000000000000000000001000000000000000000000000000001000000000000010000000000000000000000000100000000000000000000100000000000010000000000000000001000000010000000000001100000010110000010000010100000000000000000000000000000000000000000000000000\n",
      "\n",
      "3057.0\n"
     ]
    }
   ],
   "source": [
    "iterated_ls = IteratedLS(penalty_matrix=penalty_matrix, max_time=1, type_search=\"local_search\", ls_type=\"best_improvement\", iterated_type=\"new_clique\", initial_solution_type=\"eis\")\n",
    "iterated_ls.make_iterated_local_search()\n",
    "print_result(iterated_ls.best_solution)\n",
    "print(iterated_ls.value)"
   ]
  },
  {
   "cell_type": "code",
   "execution_count": 34,
   "metadata": {},
   "outputs": [
    {
     "name": "stdout",
     "output_type": "stream",
     "text": [
      "110000000000001000000000010000000000000100000000000000100000000000000010000000010000000010000000000000100000000000000000000010000000000000100000000000000100000010000000001000000000000000000100000000000000000000000000000000001000000000000000000000001000000000000000001001000000000000000000000100000000000000010000000000000010000000000000000000100000000000000000000000000100000000000000000000000000000000000000000000000000000000000000000000000000000000\n",
      "\n",
      "2269.0\n"
     ]
    }
   ],
   "source": [
    "iterated_ls = IteratedLS(penalty_matrix=penalty_matrix, max_time=1, type_search=\"local_search\", ls_type=\"best_improvement\", iterated_type=\"new_clique\", initial_solution_type=\"rcis\")\n",
    "iterated_ls.make_iterated_local_search()\n",
    "print_result(iterated_ls.best_solution)\n",
    "print(iterated_ls.value)"
   ]
  },
  {
   "cell_type": "code",
   "execution_count": 35,
   "metadata": {},
   "outputs": [
    {
     "name": "stdout",
     "output_type": "stream",
     "text": [
      "000000000000000000000000000100000000000000000000000000000000000000000000000000000000000100000000000000000100000000000000000000000000000000000000000000000000000000000000100000000000000000000000000100001000000000000000000000000000100000000000000000000000000000000000000000010000000001000000000001000000000000000010000000000010000000000000000100000100000000000100000000000010010010000001010001000001000001000000000000000000000000000000000000000000000000\n",
      "\n",
      "2823.0\n"
     ]
    }
   ],
   "source": [
    "iterated_ls = IteratedLS(penalty_matrix=penalty_matrix, max_time=1, type_search=\"local_search\", ls_type=\"best_improvement\", iterated_type=\"new_clique\", initial_solution_type=\"rcisrs\")\n",
    "iterated_ls.make_iterated_local_search()\n",
    "print_result(iterated_ls.best_solution)\n",
    "print(iterated_ls.value)"
   ]
  },
  {
   "cell_type": "code",
   "execution_count": 36,
   "metadata": {},
   "outputs": [
    {
     "name": "stdout",
     "output_type": "stream",
     "text": [
      "000000000000000010000000000000000000000010000000000000000000000000000000000000000100000000000000000000000000000000010000000000000000000000001000000000010000000000000000100000000000000000000000010000100000010000000000000000000000000000000000000000000010000000000100000000000000000000000100000000000000000000000000000100000000000000100000100000001000000000000100000000000000001000010000000000010000000000000000000000000000000000000000000000000000000000\n",
      "\n",
      "2550.0\n"
     ]
    }
   ],
   "source": [
    "iterated_ls = IteratedLS(penalty_matrix=penalty_matrix, max_time=1, type_search=\"local_search\", ls_type=\"best_improvement\", iterated_type=\"new_clique\", initial_solution_type=\"best\")\n",
    "iterated_ls.make_iterated_local_search()\n",
    "print_result(iterated_ls.best_solution)\n",
    "print(iterated_ls.value)"
   ]
  },
  {
   "cell_type": "markdown",
   "metadata": {},
   "source": [
    "###### Clique combination pertubation"
   ]
  },
  {
   "cell_type": "markdown",
   "metadata": {},
   "source": [
    "Best improvement"
   ]
  },
  {
   "cell_type": "code",
   "execution_count": 37,
   "metadata": {},
   "outputs": [
    {
     "name": "stdout",
     "output_type": "stream",
     "text": [
      "100100000000000001000000000000000000000000000000000000000000010000000000010100000000000000000000000000000001000000000000000000000000000000000000000000001000000000000010000000000100000000000000001000010000000001000000010000000000000010000000000000000010000000000000000000000000000000000000000000000010000000000000000000100001000000000000000100000000000000000000000001000000000000000000000000000000000000000000000000000000000000000000000000000000000000\n",
      "\n",
      "2835.0\n"
     ]
    }
   ],
   "source": [
    "iterated_ls = IteratedLS(penalty_matrix=penalty_matrix, max_time=1, type_search=\"local_search\", ls_type=\"best_improvement\", iterated_type=\"clique_combination\", initial_solution_type=\"ris\")\n",
    "iterated_ls.make_iterated_local_search()\n",
    "print_result(iterated_ls.best_solution)\n",
    "print(iterated_ls.value)"
   ]
  },
  {
   "cell_type": "code",
   "execution_count": 38,
   "metadata": {},
   "outputs": [
    {
     "name": "stdout",
     "output_type": "stream",
     "text": [
      "000000000000000000000000000000000000000000000000000000000000000000000000000000000000000000000000000000000000000000000000000000000000000000000010000000000000000000000000000000000000001000000000001000010000000000000000000000000000001000000000000000000000000000001000000000000010000000000000000000000000100000000000000000000100000000000010000000000000000001000000010000000000001100000010110000010000010100000000000000000000000000000000000000000000000000\n",
      "\n",
      "3057.0\n"
     ]
    }
   ],
   "source": [
    "iterated_ls = IteratedLS(penalty_matrix=penalty_matrix, max_time=1, type_search=\"local_search\", ls_type=\"best_improvement\", iterated_type=\"clique_combination\", initial_solution_type=\"eis\")\n",
    "iterated_ls.make_iterated_local_search()\n",
    "print_result(iterated_ls.best_solution)\n",
    "print(iterated_ls.value)"
   ]
  },
  {
   "cell_type": "code",
   "execution_count": 39,
   "metadata": {},
   "outputs": [
    {
     "name": "stdout",
     "output_type": "stream",
     "text": [
      "110000000000000000000000010000000000000100000000000000010000000000000010000000010000000100000000000000000000010000000000000010000000000000000000000000000000100000000000001000000000000000000100000000000000000000000000000000001000000000000000000000000000000000000000000000000000000000000000001000000010000000000000000000000100000100000000001000000000000001000100000000000000000000000000000000000000000000000000000000000000000000000000000000000000000000\n",
      "\n",
      "2430.0\n"
     ]
    }
   ],
   "source": [
    "iterated_ls = IteratedLS(penalty_matrix=penalty_matrix, max_time=1, type_search=\"local_search\", ls_type=\"best_improvement\", iterated_type=\"clique_combination\", initial_solution_type=\"rcis\")\n",
    "iterated_ls.make_iterated_local_search()\n",
    "print_result(iterated_ls.best_solution)\n",
    "print(iterated_ls.value)"
   ]
  },
  {
   "cell_type": "code",
   "execution_count": 40,
   "metadata": {},
   "outputs": [
    {
     "name": "stdout",
     "output_type": "stream",
     "text": [
      "000000000000000000000000000000000000000000000000000000000000000000000000000000000000000000000000000000000000000000000000000000000000010000000000000000010000000000000000100000000000000000000000100000000000000000000000000000000000000000001000100000000000000100000000000000000000000000000000000010000000000000000000001000000000100000000000000100000000010000000000001000000010100010100001000000010010100000000000000000000000000000000000000000000000000000\n",
      "\n",
      "3152.0\n"
     ]
    }
   ],
   "source": [
    "iterated_ls = IteratedLS(penalty_matrix=penalty_matrix, max_time=1, type_search=\"local_search\", ls_type=\"best_improvement\", iterated_type=\"clique_combination\", initial_solution_type=\"rcisrs\")\n",
    "iterated_ls.make_iterated_local_search()\n",
    "print_result(iterated_ls.best_solution)\n",
    "print(iterated_ls.value)"
   ]
  },
  {
   "cell_type": "code",
   "execution_count": 41,
   "metadata": {},
   "outputs": [
    {
     "name": "stdout",
     "output_type": "stream",
     "text": [
      "000000000000000000000000000000000000000000000000000000000000000000000000100000000000000000000000000000000000000000000000000000000000000000000000000001000000000000000000000001000000000000000000001000000000000000000000000000000001000000000000000000000000000000000000000000000000000000000000000000000000100000000000000100000000000000010001000000000000000001000000000000001000001100000000100000011001001000010000000000000000000000000000000000000000000000\n",
      "\n",
      "3034.0\n"
     ]
    }
   ],
   "source": [
    "iterated_ls = IteratedLS(penalty_matrix=penalty_matrix, max_time=1, type_search=\"local_search\", ls_type=\"best_improvement\", iterated_type=\"clique_combination\", initial_solution_type=\"best\")\n",
    "iterated_ls.make_iterated_local_search()\n",
    "print_result(iterated_ls.best_solution)\n",
    "print(iterated_ls.value)"
   ]
  },
  {
   "cell_type": "markdown",
   "metadata": {},
   "source": [
    "##### Apllying the iterated local search with random local search"
   ]
  },
  {
   "cell_type": "markdown",
   "metadata": {},
   "source": [
    "We are just testing the methods, so here we going to use a fixed value for p and k. With p = 0.3 and k = 10."
   ]
  },
  {
   "cell_type": "markdown",
   "metadata": {},
   "source": [
    "###### New clique pertubation"
   ]
  },
  {
   "cell_type": "markdown",
   "metadata": {},
   "source": [
    "First improvement"
   ]
  },
  {
   "cell_type": "code",
   "execution_count": 42,
   "metadata": {},
   "outputs": [
    {
     "name": "stdout",
     "output_type": "stream",
     "text": [
      "000000000000000000000000000010000000000000000000000010000000000000000000000000000000000001000000000000000000000000100000010000000000000000000000000000000000000000000000000100000000000100000000000000000000000000000000000000001000000000000000000000000000000000001000000000000010000000000000000000000000000001000000000000000100000000000000000000000000100000000000000000000000000000000000000000100000000000000100000000000000000000000100000000000000000100\n",
      "\n",
      "271578.0\n"
     ]
    }
   ],
   "source": [
    "iterated_ls = IteratedLS(penalty_matrix=penalty_matrix, max_time=1, type_search=\"rdn_ls\", ls_type=\"first_improvement\", iterated_type=\"new_clique\", initial_solution_type=\"ris\", p=0.3, k=10)\n",
    "iterated_ls.make_iterated_local_search()\n",
    "print_result(iterated_ls.best_solution)\n",
    "print(iterated_ls.value)"
   ]
  },
  {
   "cell_type": "code",
   "execution_count": 43,
   "metadata": {},
   "outputs": [
    {
     "name": "stdout",
     "output_type": "stream",
     "text": [
      "000000000000000000001000000000000000000000000000000100010000000000000000000000000101000001000000000000000000001000010000000000100001000000000000000001000000000000001000000000000000000000000000000000100000000000000000000000100000000000000000010000000000000000000000000000000000010000000010000000000000000000000000000000000000000010000000100000000000000000000000010000000000000000000000000000000000000000000010101000000000000000001000000001000000000000\n",
      "\n",
      "75780.0\n"
     ]
    }
   ],
   "source": [
    "iterated_ls = IteratedLS(penalty_matrix=penalty_matrix, max_time=1, type_search=\"rdn_ls\", ls_type=\"first_improvement\", iterated_type=\"new_clique\", initial_solution_type=\"eis\", p=0.3, k=10)\n",
    "iterated_ls.make_iterated_local_search()\n",
    "print_result(iterated_ls.best_solution)\n",
    "print(iterated_ls.value)"
   ]
  },
  {
   "cell_type": "code",
   "execution_count": 44,
   "metadata": {},
   "outputs": [
    {
     "name": "stdout",
     "output_type": "stream",
     "text": [
      "000010000100100000000000010000000000001000000000000001010000000000000010000000001000000100000000000000010000000000000000000010000000000000100000000000000000100000000000100000000000000000001100000000000000000000000000000000001000100000000001100000000000000100000000000001000000000010000000000000000000000000000000010000000000000000000000100000000000000000000100100000000000000000000000000010000000000100000000000000000000000000000000001000000001000000\n",
      "\n",
      "1965.0\n"
     ]
    }
   ],
   "source": [
    "iterated_ls = IteratedLS(penalty_matrix=penalty_matrix, max_time=1, type_search=\"rdn_ls\", ls_type=\"first_improvement\", iterated_type=\"new_clique\", initial_solution_type=\"rcis\", p=0.3, k=10)\n",
    "iterated_ls.make_iterated_local_search()\n",
    "print_result(iterated_ls.best_solution)\n",
    "print(iterated_ls.value)"
   ]
  },
  {
   "cell_type": "code",
   "execution_count": 45,
   "metadata": {},
   "outputs": [
    {
     "name": "stdout",
     "output_type": "stream",
     "text": [
      "000000100000100000000000000010000000000000000000000000010000001000000000000100000000000010000000100000000000000001000000001000000000010000000000000000100001000000000000010000000000000000001000000000000010000000000000010000000000010000000000000001000000000000000000000000000000000001010001000000010100000000000000000000100000000000000000000000000000000000001000000000000000000000000000000001000000010000000000000000000000000000000000000001000000000000\n",
      "\n",
      "2201.0\n"
     ]
    }
   ],
   "source": [
    "iterated_ls = IteratedLS(penalty_matrix=penalty_matrix, max_time=1, type_search=\"rdn_ls\", ls_type=\"first_improvement\", iterated_type=\"new_clique\", initial_solution_type=\"rcisrs\", p=0.3, k=10)\n",
    "iterated_ls.make_iterated_local_search()\n",
    "print_result(iterated_ls.best_solution)\n",
    "print(iterated_ls.value)"
   ]
  },
  {
   "cell_type": "code",
   "execution_count": 46,
   "metadata": {},
   "outputs": [
    {
     "name": "stdout",
     "output_type": "stream",
     "text": [
      "000000000000000000000000100000000000000000000000000000000000010000000000000010000000000101000000000000001000000000000000000000100000000000000000000000000000000000000000000001000000100000000000001000000010000000000001000000000010010000000000000000000100000001000000000000010000001000000000000000100000000000000000000010000000001000000010000000000001000000000000000000001000000000000000010100000010000000000010000000000000001000000000000000000000000000\n",
      "\n",
      "1639.0\n"
     ]
    }
   ],
   "source": [
    "iterated_ls = IteratedLS(penalty_matrix=penalty_matrix, max_time=1, type_search=\"rdn_ls\", ls_type=\"first_improvement\", iterated_type=\"new_clique\", initial_solution_type=\"best\", p=0.3, k=10)\n",
    "iterated_ls.make_iterated_local_search()\n",
    "print_result(iterated_ls.best_solution)\n",
    "print(iterated_ls.value)"
   ]
  },
  {
   "cell_type": "markdown",
   "metadata": {},
   "source": [
    "###### Clique combination pertubation"
   ]
  },
  {
   "cell_type": "markdown",
   "metadata": {},
   "source": [
    "First improvement"
   ]
  },
  {
   "cell_type": "code",
   "execution_count": 47,
   "metadata": {},
   "outputs": [
    {
     "name": "stdout",
     "output_type": "stream",
     "text": [
      "000000000000000010000000001000000000000000000000000001000000001000000000000000000010010000000000010000010000000000000000000010010000000000000000000001000000000000100100100000000000000000000010000000000000000000000100000000000000000100000000000010010001000000001000000010000000000000000000000000000001000000000000010000000000000000000000000000000000000000000000010000000010000000000000000010000000000000000000000000000000000000100000001000000000000000\n",
      "\n",
      "235766.0\n"
     ]
    }
   ],
   "source": [
    "iterated_ls = IteratedLS(penalty_matrix=penalty_matrix, max_time=1, type_search=\"rdn_ls\", ls_type=\"first_improvement\", iterated_type=\"clique_combination\", initial_solution_type=\"ris\", p=0.3, k=10)\n",
    "iterated_ls.make_iterated_local_search()\n",
    "print_result(iterated_ls.best_solution)\n",
    "print(iterated_ls.value)"
   ]
  },
  {
   "cell_type": "code",
   "execution_count": 48,
   "metadata": {},
   "outputs": [
    {
     "name": "stdout",
     "output_type": "stream",
     "text": [
      "100000000000000000000010100000000000000000000000001001000000000000000000000000010000000000000000010000000000000010000010000000000000000000000000000000000000010000000000000100000000000000000000000000000000000000000000001000000001000000000000000010000000000000001000000000000000100000000000000000000000000000000000000010000000000000000000000000000000000000001000000000000000000000000000000000000000000000000000000000000000000000000000000000000000000000\n",
      "\n",
      "49554.0\n"
     ]
    }
   ],
   "source": [
    "iterated_ls = IteratedLS(penalty_matrix=penalty_matrix, max_time=1, type_search=\"rdn_ls\", ls_type=\"first_improvement\", iterated_type=\"clique_combination\", initial_solution_type=\"eis\", p=0.3, k=10)\n",
    "iterated_ls.make_iterated_local_search()\n",
    "print_result(iterated_ls.best_solution)\n",
    "print(iterated_ls.value)"
   ]
  },
  {
   "cell_type": "code",
   "execution_count": 49,
   "metadata": {},
   "outputs": [
    {
     "name": "stdout",
     "output_type": "stream",
     "text": [
      "000000000000100000000000010000000000000000000000000000000000000000000000000000010000000000000000001000000000000001000000000000000000000000000000000000000000000000000000000000001000000000000000000100000000000000000000000000001000000000000000010000000000010000000000000000000000000000000001000000000000000000000000000000000000000010000000000000000000000000000000000010000000000000000000000000100000000000000000000000000100010000001000010000000000000000\n",
      "\n",
      "9502.0\n"
     ]
    }
   ],
   "source": [
    "iterated_ls = IteratedLS(penalty_matrix=penalty_matrix, max_time=1, type_search=\"rdn_ls\", ls_type=\"first_improvement\", iterated_type=\"clique_combination\", initial_solution_type=\"rcis\", p=0.3, k=10)\n",
    "iterated_ls.make_iterated_local_search()\n",
    "print_result(iterated_ls.best_solution)\n",
    "print(iterated_ls.value)"
   ]
  },
  {
   "cell_type": "code",
   "execution_count": 50,
   "metadata": {},
   "outputs": [
    {
     "name": "stdout",
     "output_type": "stream",
     "text": [
      "000000000000000000010000000010000000000000000000110000000000010000001000000000000000000000000000000001000000000000000000000000000001000001000000000010000000000000001000100001100000001000000000000000000000000101001000000000001000000000000000100000000000000000000000000000000001000001000000000000000000000000000010000000000001000000000000000000000000000000000000001000000010000000000000100000000010000000000000000100000000000000000000001000000000000000\n",
      "\n",
      "2144.0\n"
     ]
    }
   ],
   "source": [
    "iterated_ls = IteratedLS(penalty_matrix=penalty_matrix, max_time=1, type_search=\"rdn_ls\", ls_type=\"first_improvement\", iterated_type=\"clique_combination\", initial_solution_type=\"rcisrs\", p=0.3, k=10)\n",
    "iterated_ls.make_iterated_local_search()\n",
    "print_result(iterated_ls.best_solution)\n",
    "print(iterated_ls.value)"
   ]
  },
  {
   "cell_type": "code",
   "execution_count": 51,
   "metadata": {},
   "outputs": [
    {
     "name": "stdout",
     "output_type": "stream",
     "text": [
      "000000000000000000001000100000000000000000000000001000000000000000000100000100000000000010000000000000000000000100000000000000000000100000000001010000001001000000000001101000000000000000100000000000000000000000000000000000000000100000000000010000000000000010000000000000000000000000000000000010000000000000000000000100000000001000100000000010000100000000000000000000000100100000010000000001000001000000000000000000000000000000000010000000000000000100\n",
      "\n",
      "2168.0\n"
     ]
    }
   ],
   "source": [
    "iterated_ls = IteratedLS(penalty_matrix=penalty_matrix, max_time=1, type_search=\"rdn_ls\", ls_type=\"first_improvement\", iterated_type=\"clique_combination\", initial_solution_type=\"best\", p=0.3, k=10)\n",
    "iterated_ls.make_iterated_local_search()\n",
    "print_result(iterated_ls.best_solution)\n",
    "print(iterated_ls.value)"
   ]
  },
  {
   "cell_type": "markdown",
   "metadata": {},
   "source": [
    "###### New clique pertubation"
   ]
  },
  {
   "cell_type": "markdown",
   "metadata": {},
   "source": [
    "Best improvement"
   ]
  },
  {
   "cell_type": "code",
   "execution_count": 52,
   "metadata": {},
   "outputs": [
    {
     "name": "stdout",
     "output_type": "stream",
     "text": [
      "010100110111011010010010101011100111001000101000110101000001110010110100101001100000011011000001101100111110100001011111010101110110011000001110101110010001001100110000000100000110111010000001110001101011000010100010110001100000010110100010001011101000001010111110010101010001100100110011001000001111011100101110110100101101100100101101101101001001111010000000100101001001010000100010101101100101011110000001101101001011001100000010011101101001001001\n",
      "\n",
      "-3844685.0\n"
     ]
    }
   ],
   "source": [
    "iterated_ls = IteratedLS(penalty_matrix=penalty_matrix, max_time=1, type_search=\"rdn_ls\", ls_type=\"best_improvement\", iterated_type=\"new_clique\", initial_solution_type=\"ris\", p=0.3, k=10)\n",
    "iterated_ls.make_iterated_local_search()\n",
    "print_result(iterated_ls.best_solution)\n",
    "print(iterated_ls.value)"
   ]
  },
  {
   "cell_type": "code",
   "execution_count": 53,
   "metadata": {},
   "outputs": [
    {
     "name": "stdout",
     "output_type": "stream",
     "text": [
      "100000000000000000000000000000000010000000000000000000000000000000010001000000000000000000000000000000000000000000000000000000000000000000000000000000000000000000000000000001000000000000000000000000000000000000000000000000000000000000000000000000000000000000000000000000000000000000000000000100001000000000000000000000000000000000000000000000000100000000000000000000000000001000000000010010000000000000000000000000000000000000000000000000000000000000\n",
      "\n",
      "1.0\n"
     ]
    }
   ],
   "source": [
    "iterated_ls = IteratedLS(penalty_matrix=penalty_matrix, max_time=1, type_search=\"rdn_ls\", ls_type=\"best_improvement\", iterated_type=\"new_clique\", initial_solution_type=\"eis\", p=0.3, k=10)\n",
    "iterated_ls.make_iterated_local_search()\n",
    "print_result(iterated_ls.best_solution)\n",
    "print(iterated_ls.value)"
   ]
  },
  {
   "cell_type": "code",
   "execution_count": 54,
   "metadata": {},
   "outputs": [
    {
     "name": "stdout",
     "output_type": "stream",
     "text": [
      "110000000000100000000000000100000000001000010000000000000000000000011000000000001000000010000000000000010100000000000100000000000000000000000000000001000000000100000000100000000000000000000100000000000000000000000000001000000001000000000000000100010000000000000000000000010000000000000000000100000000000000001000010000000000000000000100001000000001000000000100000000000000000000000000000000000001000000000000000000100000000000000001000000000000000000\n",
      "\n",
      "1964.0\n"
     ]
    }
   ],
   "source": [
    "iterated_ls = IteratedLS(penalty_matrix=penalty_matrix, max_time=1, type_search=\"rdn_ls\", ls_type=\"best_improvement\", iterated_type=\"new_clique\", initial_solution_type=\"rcis\", p=0.3, k=10)\n",
    "iterated_ls.make_iterated_local_search()\n",
    "print_result(iterated_ls.best_solution)\n",
    "print(iterated_ls.value)"
   ]
  },
  {
   "cell_type": "code",
   "execution_count": 55,
   "metadata": {},
   "outputs": [
    {
     "name": "stdout",
     "output_type": "stream",
     "text": [
      "000010000000000000100001000000000000000010000000000000001000000000000001000100000000000000000010000000100010001000000000000000000000000000010010000000100000100000000000010001000000000000000000000000000000000010000010000000101000000000000000001000001000010000000000000000000000000000010000000000000000000000000000000000000000000001000000000010000000000001000010000000000000000000000000000000000000000000100000000000000001000000000000000000000000000000\n",
      "\n",
      "1901.0\n"
     ]
    }
   ],
   "source": [
    "iterated_ls = IteratedLS(penalty_matrix=penalty_matrix, max_time=1, type_search=\"rdn_ls\", ls_type=\"best_improvement\", iterated_type=\"new_clique\", initial_solution_type=\"rcisrs\", p=0.3, k=10)\n",
    "iterated_ls.make_iterated_local_search()\n",
    "print_result(iterated_ls.best_solution)\n",
    "print(iterated_ls.value)"
   ]
  },
  {
   "cell_type": "code",
   "execution_count": 56,
   "metadata": {},
   "outputs": [
    {
     "name": "stdout",
     "output_type": "stream",
     "text": [
      "000100000000000000010000000000100000000000000000100000000000000000100000000000001000000000000000000010100000000000000000000000100000000001000000000000000000100000000000000000010000000000000100000000000000000000000000000000000000000000001100000000000000000100000000000000100000000000000010001000000010000000000100000000000000000000010000000001000000010000000100000000000000000000000000000000000010000000000000000000000000000000000000000000000000000000\n",
      "\n",
      "2110.0\n"
     ]
    }
   ],
   "source": [
    "iterated_ls = IteratedLS(penalty_matrix=penalty_matrix, max_time=1, type_search=\"rdn_ls\", ls_type=\"best_improvement\", iterated_type=\"new_clique\", initial_solution_type=\"best\", p=0.3, k=10)\n",
    "iterated_ls.make_iterated_local_search()\n",
    "print_result(iterated_ls.best_solution)\n",
    "print(iterated_ls.value)"
   ]
  },
  {
   "cell_type": "markdown",
   "metadata": {},
   "source": [
    "###### Clique combination pertubation"
   ]
  },
  {
   "cell_type": "markdown",
   "metadata": {},
   "source": [
    "Best improvement"
   ]
  },
  {
   "cell_type": "code",
   "execution_count": 57,
   "metadata": {},
   "outputs": [
    {
     "name": "stdout",
     "output_type": "stream",
     "text": [
      "000010001010101111110100111011101100011010000111010110111011100110101011101110100110001011011001000000001101110011001011101110011001111000000100111101111111000010001100001000000100111001001100111001000001001000110001001011001001110010001001100001101111101010110000010111110110011001010011010100110111010000101001011010101011101011010110010000111000101011001110101100010110011011000010111111010001001010110011111100110011001111111000100010010011100111\n",
      "\n",
      "-4441501.0\n"
     ]
    }
   ],
   "source": [
    "iterated_ls = IteratedLS(penalty_matrix=penalty_matrix, max_time=1, type_search=\"rdn_ls\", ls_type=\"best_improvement\", iterated_type=\"clique_combination\", initial_solution_type=\"ris\", p=0.3, k=10)\n",
    "iterated_ls.make_iterated_local_search()\n",
    "print_result(iterated_ls.best_solution)\n",
    "print(iterated_ls.value)"
   ]
  },
  {
   "cell_type": "code",
   "execution_count": 63,
   "metadata": {},
   "outputs": [
    {
     "name": "stdout",
     "output_type": "stream",
     "text": [
      "100000000000000000000000000000000000000000000000000000000000000000000000000000000000000000000000000000000000000000000000000000000000000000000000000000000000000000000000000000000000000000000000000000000000000000000000000000000000000000000000000000001000000000000000000000100000000000000000000000000000000000000000000000000000000000000000000000000000000000000000000000000000000000000000000000000000000000000000000000000000000000000000000000000000000000\n",
      "\n",
      "121.0\n"
     ]
    }
   ],
   "source": [
    "iterated_ls = IteratedLS(penalty_matrix=penalty_matrix, max_time=1, type_search=\"rdn_ls\", ls_type=\"best_improvement\", iterated_type=\"clique_combination\", initial_solution_type=\"eis\", p=0.3, k=10)\n",
    "iterated_ls.make_iterated_local_search()\n",
    "print_result(iterated_ls.best_solution)\n",
    "print(iterated_ls.value)"
   ]
  },
  {
   "cell_type": "code",
   "execution_count": 59,
   "metadata": {},
   "outputs": [
    {
     "name": "stdout",
     "output_type": "stream",
     "text": [
      "010000000000100000000000000001000000001000000000000000000000100000000001100000001000000000000010000000000000001000000000000010000000000000100000000000000000010100000001100000000001000000000100000000100000000000000000000000110000001000010000101000000000000000000000000100000000000000010000001000000000000000010000000000000000000000100000000000000000000000000000000000000101000000100000000000000000000000000000000000001000000000000000000000000000000000\n",
      "\n",
      "1849.0\n"
     ]
    }
   ],
   "source": [
    "iterated_ls = IteratedLS(penalty_matrix=penalty_matrix, max_time=1, type_search=\"rdn_ls\", ls_type=\"best_improvement\", iterated_type=\"clique_combination\", initial_solution_type=\"rcis\", p=0.3, k=10)\n",
    "iterated_ls.make_iterated_local_search()\n",
    "print_result(iterated_ls.best_solution)\n",
    "print(iterated_ls.value)"
   ]
  },
  {
   "cell_type": "code",
   "execution_count": 60,
   "metadata": {},
   "outputs": [
    {
     "name": "stdout",
     "output_type": "stream",
     "text": [
      "000000010000001000000000000000000000000000000000000000000000000000000000000000010000000000101000000000000000000000000000000100000000100000000000000100000000010000000000011000000100000010000000000100000001010000000100000000001000000000001000000000000000000000000000000000000100000000000100000000100000000000010000000000000010000101000000100000010000000000000010000000000000001010000001000001000001100000000000000000000010000000000000000000000000010000\n",
      "\n",
      "2639.0\n"
     ]
    }
   ],
   "source": [
    "iterated_ls = IteratedLS(penalty_matrix=penalty_matrix, max_time=1, type_search=\"rdn_ls\", ls_type=\"best_improvement\", iterated_type=\"clique_combination\", initial_solution_type=\"rcisrs\", p=0.3, k=10)\n",
    "iterated_ls.make_iterated_local_search()\n",
    "print_result(iterated_ls.best_solution)\n",
    "print(iterated_ls.value)"
   ]
  },
  {
   "cell_type": "code",
   "execution_count": 61,
   "metadata": {},
   "outputs": [
    {
     "name": "stdout",
     "output_type": "stream",
     "text": [
      "000001000000000000010000000000001000001000000000000000000000000000000000000000000000000000000000000010000000000000001000010000000000000100000000000000100000000000000100000001000100000000000000000001000000000100000000000000000000000000001000000000000000001100000000010000010000100000000000000000000000000000001000000100000000010000000000000000010010010000000000000000000000000000000010000000000000000000000001000000000000001000000000000000000000000000\n",
      "\n",
      "1685.0\n"
     ]
    }
   ],
   "source": [
    "iterated_ls = IteratedLS(penalty_matrix=penalty_matrix, max_time=1, type_search=\"rdn_ls\", ls_type=\"best_improvement\", iterated_type=\"clique_combination\", initial_solution_type=\"best\", p=0.3, k=10)\n",
    "iterated_ls.make_iterated_local_search()\n",
    "print_result(iterated_ls.best_solution)\n",
    "print(iterated_ls.value)"
   ]
  },
  {
   "cell_type": "markdown",
   "metadata": {},
   "source": [
    "### Applying the best result in all instances"
   ]
  },
  {
   "cell_type": "code",
   "execution_count": 10,
   "metadata": {},
   "outputs": [
    {
     "name": "stdout",
     "output_type": "stream",
     "text": [
      "000000000000000000000000000000000000100000000000000000000000000000000000000000000000000000000000000000000000100000000000100000000000000000000000000000000000000000000000100000000000000000000000010000100000000000000000000000000100000000000000000001000000000000000000000000000000000010000001000000000000100000000000000100000000000100000000000000000000010000000000010000000010000100000011000011000001000100000000000000000000000000000000000000000000000000\n",
      "\n",
      "3365.0\n"
     ]
    }
   ],
   "source": [
    "complement_matrix = utils.find_complement_matrix(\"data/frb30-15-1.clq\")\n",
    "penalty_matrix = utils.apply_preparations(complement_matrix)\n",
    "iterated_ls = IteratedLS(penalty_matrix=penalty_matrix, max_time=10, type_search=\"local_search\", ls_type=\"best_improvement\", iterated_type=\"clique_combination\", initial_solution_type=\"rcisrs\")\n",
    "iterated_ls.make_iterated_local_search()\n",
    "print_result(iterated_ls.best_solution)\n",
    "print(iterated_ls.value)"
   ]
  },
  {
   "cell_type": "code",
   "execution_count": 11,
   "metadata": {},
   "outputs": [
    {
     "name": "stdout",
     "output_type": "stream",
     "text": [
      "010000000000000000000000010000000000000000100000000000000000010010000000000000000000000000000000100000000000000010000000000000000000000000001000000000000000000000000000000000001000000000001000000000000000000000000000000000000000000000000000000100000000000000000000000100000000000010000000000000000000000000000000010000010000000000000000000100000000000001000000000000000001000010010000001000001000000000000000000000000000000000000000000000000000000000\n",
      "\n",
      "3229.0\n"
     ]
    }
   ],
   "source": [
    "complement_matrix = utils.find_complement_matrix(\"data/frb30-15-2.clq\")\n",
    "penalty_matrix = utils.apply_preparations(complement_matrix)\n",
    "iterated_ls = IteratedLS(penalty_matrix=penalty_matrix, max_time=10, type_search=\"local_search\", ls_type=\"best_improvement\", iterated_type=\"clique_combination\", initial_solution_type=\"rcisrs\")\n",
    "iterated_ls.make_iterated_local_search()\n",
    "print_result(iterated_ls.best_solution)\n",
    "print(iterated_ls.value)"
   ]
  },
  {
   "cell_type": "code",
   "execution_count": 12,
   "metadata": {},
   "outputs": [
    {
     "name": "stdout",
     "output_type": "stream",
     "text": [
      "000000000000000000000000000000000000000000000000000000000000010000000000010000000000100000000010000000000000000000000000100000000000000001000000100000000000000000000000000100000000000000010000000000000000000000000000000000000000000000001000000000000000000000000000001000010000000000000000000000000000000000000000000000100000000000000000010000000010000000000000001000000000000000000100000001000000001000000000000000010000000000000000000000000000000000\n",
      "\n",
      "3415.0\n"
     ]
    }
   ],
   "source": [
    "complement_matrix = utils.find_complement_matrix(\"data/frb30-15-3.clq\")\n",
    "penalty_matrix = utils.apply_preparations(complement_matrix)\n",
    "iterated_ls = IteratedLS(penalty_matrix=penalty_matrix, max_time=10, type_search=\"local_search\", ls_type=\"best_improvement\", iterated_type=\"clique_combination\", initial_solution_type=\"rcisrs\")\n",
    "iterated_ls.make_iterated_local_search()\n",
    "print_result(iterated_ls.best_solution)\n",
    "print(iterated_ls.value)"
   ]
  },
  {
   "cell_type": "code",
   "execution_count": 13,
   "metadata": {},
   "outputs": [
    {
     "name": "stdout",
     "output_type": "stream",
     "text": [
      "000000000000000000000001000000000000100000000000000000001000000000000000000000000010000000000000000010100000000000000100000000010000000000000000001010000000000000000000010000010000000000000000000001000000000000000000000000000000001000000000000100000001000000000000000000000000000000100000000000000000000000000000000000010000000000010000000000000100000000000000000010000000000100000000000000000000000000000000000000000000000000000000000000000000000000\n",
      "\n",
      "3598.0\n"
     ]
    }
   ],
   "source": [
    "complement_matrix = utils.find_complement_matrix(\"data/frb30-15-4.clq\")\n",
    "penalty_matrix = utils.apply_preparations(complement_matrix)\n",
    "iterated_ls = IteratedLS(penalty_matrix=penalty_matrix, max_time=10, type_search=\"local_search\", ls_type=\"best_improvement\", iterated_type=\"clique_combination\", initial_solution_type=\"rcisrs\")\n",
    "iterated_ls.make_iterated_local_search()\n",
    "print_result(iterated_ls.best_solution)\n",
    "print(iterated_ls.value)"
   ]
  },
  {
   "cell_type": "code",
   "execution_count": 14,
   "metadata": {},
   "outputs": [
    {
     "name": "stdout",
     "output_type": "stream",
     "text": [
      "000000000000000000000000010000000000000100000000000000000000000000000000000000000000000000000000000000000000000000000000010000000001000000000000000000000000000000000000000000000100000000100000000000000100000000000000000000000010000000000000000000000000100000000000000000000000000000010000000000000000000000000000000010000000000010000000000000000000001000000000000001000100000100000010010000010000001000000000000000000000000000000000000000000000000000\n",
      "\n",
      "3377.0\n"
     ]
    }
   ],
   "source": [
    "complement_matrix = utils.find_complement_matrix(\"data/frb30-15-5.clq\")\n",
    "penalty_matrix = utils.apply_preparations(complement_matrix)\n",
    "iterated_ls = IteratedLS(penalty_matrix=penalty_matrix, max_time=10, type_search=\"local_search\", ls_type=\"best_improvement\", iterated_type=\"clique_combination\", initial_solution_type=\"rcisrs\")\n",
    "iterated_ls.make_iterated_local_search()\n",
    "print_result(iterated_ls.best_solution)\n",
    "print(iterated_ls.value)"
   ]
  },
  {
   "cell_type": "code",
   "execution_count": 15,
   "metadata": {},
   "outputs": [
    {
     "name": "stdout",
     "output_type": "stream",
     "text": [
      "0000000000000000000000000000000000000000000001000000000000000000000000010010000000000000000000000000000100000000001000000000000000000000000100000000000000000000000000000000000000000101000000000000000000000000000000000000010000000000000000000000010000000000000100000000000000010000000000000000000000000000000000000000000010000000000000000000010000000000000000010000000000000000000000000010000000000100000000000000000000000010000000000000000000000000000000000000000000000000001000000000000000000000000000000010000000000000000000000000000000000000000000010000000000000000000000000100000000000000001000000000000000000000000000000000000000000000000000000000000001000000000000000000000000000000000000000001000000000000000000010000000010000000000000000000000000000100\n",
      "\n",
      "3671.0\n"
     ]
    }
   ],
   "source": [
    "complement_matrix = utils.find_complement_matrix(\"data/frb40-19-1.clq\")\n",
    "penalty_matrix = utils.apply_preparations(complement_matrix)\n",
    "iterated_ls = IteratedLS(penalty_matrix=penalty_matrix, max_time=10, type_search=\"local_search\", ls_type=\"best_improvement\", iterated_type=\"clique_combination\", initial_solution_type=\"rcisrs\")\n",
    "iterated_ls.make_iterated_local_search()\n",
    "print_result(iterated_ls.best_solution)\n",
    "print(iterated_ls.value)"
   ]
  },
  {
   "cell_type": "code",
   "execution_count": 16,
   "metadata": {},
   "outputs": [
    {
     "name": "stdout",
     "output_type": "stream",
     "text": [
      "0000100000000000000000100000000000000001000000000000000000010000000000000000000000000010000000000010000000000000000100000000000000000000000000000000000000000000000010000000010000000000000000000000000000000100000000000000000000000000000000000000000000100000000000000000000000000000000000000010000000000000000000000000000000000000000000000000000000100000000000000000001000000000000000000100000000010000000000000000000000000001000000000000000000000000000000000000000000000000000000100000000000000000000000000000000000000000000000000000000000000000000000000000001000000000000000000000100000000000000000010000000000000000000000000000000100000000100000000000000000000100000000000000000000000000000000001000000000000000000000000000100000000000000100000000000000010000\n",
      "\n",
      "3595.0\n"
     ]
    }
   ],
   "source": [
    "complement_matrix = utils.find_complement_matrix(\"data/frb40-19-2.clq\")\n",
    "penalty_matrix = utils.apply_preparations(complement_matrix)\n",
    "iterated_ls = IteratedLS(penalty_matrix=penalty_matrix, max_time=10, type_search=\"local_search\", ls_type=\"best_improvement\", iterated_type=\"clique_combination\", initial_solution_type=\"rcisrs\")\n",
    "iterated_ls.make_iterated_local_search()\n",
    "print_result(iterated_ls.best_solution)\n",
    "print(iterated_ls.value)"
   ]
  },
  {
   "cell_type": "code",
   "execution_count": 17,
   "metadata": {},
   "outputs": [
    {
     "name": "stdout",
     "output_type": "stream",
     "text": [
      "0000000000000010000000000000000010000000000000000000010000000010000000000000000010000000000000000000000000100000000000000000000000000000000000000000000100000000000000001000000000000000000000000100000100000000000000000000000000000000000000000000000000100000000000000000000000000000000000000000000000010000000000000000000000000000001000000000000000000000000000000000000000000100000000000000000000100001000000000000000000000000000000000000000000000000000000000000100000000000000000010000000001000000000000000000000100000000000000000000000000010000000000000000000000000010000010000000000000000000100000000000000000000000000000000000010000000000000000000000010000000000000000000000000000000000000000000000000000000000000000000000000000001000000000010000000000000000\n",
      "\n",
      "3894.0\n"
     ]
    }
   ],
   "source": [
    "complement_matrix = utils.find_complement_matrix(\"data/frb40-19-3.clq\")\n",
    "penalty_matrix = utils.apply_preparations(complement_matrix)\n",
    "iterated_ls = IteratedLS(penalty_matrix=penalty_matrix, max_time=10, type_search=\"local_search\", ls_type=\"best_improvement\", iterated_type=\"clique_combination\", initial_solution_type=\"rcisrs\")\n",
    "iterated_ls.make_iterated_local_search()\n",
    "print_result(iterated_ls.best_solution)\n",
    "print(iterated_ls.value)"
   ]
  },
  {
   "cell_type": "code",
   "execution_count": 18,
   "metadata": {},
   "outputs": [
    {
     "name": "stdout",
     "output_type": "stream",
     "text": [
      "0000000000000000000001000000000000000000000000000000000000000000000000000000000000000000001000000000000000000000100000000000000000100000000010000000000000000000000000000000000010010000000010000000000000000000000000000000000000000000000000000000000000000000000000000000000000000000000000000000000000000000000000010000000000000000000010000000000000001000000000000000000000000000000000001000000010000000000000000000000000000000000000000000000010000010000000000001000000000100000000000000000000000001000000000000000000000000000000000000000000000001000000000001000000000000000000000000000000000100000100000000000000010000000000000000000000000000000000001000000000000001001000000000000000000000000000000000000000000000001000000010000000000000000000000000000000010000\n",
      "\n",
      "3616.0\n"
     ]
    }
   ],
   "source": [
    "complement_matrix = utils.find_complement_matrix(\"data/frb40-19-4.clq\")\n",
    "penalty_matrix = utils.apply_preparations(complement_matrix)\n",
    "iterated_ls = IteratedLS(penalty_matrix=penalty_matrix, max_time=10, type_search=\"local_search\", ls_type=\"best_improvement\", iterated_type=\"clique_combination\", initial_solution_type=\"rcisrs\")\n",
    "iterated_ls.make_iterated_local_search()\n",
    "print_result(iterated_ls.best_solution)\n",
    "print(iterated_ls.value)"
   ]
  },
  {
   "cell_type": "code",
   "execution_count": 19,
   "metadata": {},
   "outputs": [
    {
     "name": "stdout",
     "output_type": "stream",
     "text": [
      "0000000000000000000000000100000000000001000000000000000000000000000000000000000010000000000000000000000000000000000000000000000000000000000000000000000100000000010000000000000000000100000000000000000100001000000000000000000000000000000000000100000000000000100000000000000000000000000010000000000000000000000000000000100000000100000000000000000000000000000000000000000000000000010000000000000010000000000000000000000000100000000000000001000000000000000000000000000000001000000000000001000000000000001000000000000010000000000000000000000000000000000000000000100000000000000000000000000000000000000010000000000000000000000000000000000000000000000000000000000000000000000000100000000000000000000000000000000000000010000000001010000000000000100000000000001000000000\n",
      "\n",
      "3828.0\n"
     ]
    }
   ],
   "source": [
    "complement_matrix = utils.find_complement_matrix(\"data/frb40-19-5.clq\")\n",
    "penalty_matrix = utils.apply_preparations(complement_matrix)\n",
    "iterated_ls = IteratedLS(penalty_matrix=penalty_matrix, max_time=10, type_search=\"local_search\", ls_type=\"best_improvement\", iterated_type=\"clique_combination\", initial_solution_type=\"rcisrs\")\n",
    "iterated_ls.make_iterated_local_search()\n",
    "print_result(iterated_ls.best_solution)\n",
    "print(iterated_ls.value)"
   ]
  },
  {
   "cell_type": "code",
   "execution_count": 20,
   "metadata": {},
   "outputs": [
    {
     "name": "stdout",
     "output_type": "stream",
     "text": [
      "001000000000000000000010000000000000000000000000000000000010000000000000000000000000010000000000000000000000000000000000000000001000000000000000100000000000000000000000001000000000000000000001000001000000000000000000000000000000000000000000000000000000000000000000000000000000001000000000000000000100000000000000000000000000000100000000000100000000000000000000000000000010000000000000000001000000000000000000000010000000000000000000000000000000000000000000000000000000000001000000000000000000000000000100000000000000000000000000000000000000000000000100000000010000000000000000000010000000000000000000000000000000000000000000000000001000000000000000000000000000000000000010000000000000000000000000000001000000000000000000000000000000000000000000000000000000000000000000000001000000000000000000001000000000000000000000000000000000000000000000000000000000000000000000000000010000000000000000000000000000000000000000000000000100000000000000000000001\n",
      "\n",
      "4239.0\n"
     ]
    }
   ],
   "source": [
    "complement_matrix = utils.find_complement_matrix(\"data/frb45-21-1.clq\")\n",
    "penalty_matrix = utils.apply_preparations(complement_matrix)\n",
    "iterated_ls = IteratedLS(penalty_matrix=penalty_matrix, max_time=10, type_search=\"local_search\", ls_type=\"best_improvement\", iterated_type=\"clique_combination\", initial_solution_type=\"rcisrs\")\n",
    "iterated_ls.make_iterated_local_search()\n",
    "print_result(iterated_ls.best_solution)\n",
    "print(iterated_ls.value)"
   ]
  },
  {
   "cell_type": "code",
   "execution_count": 21,
   "metadata": {},
   "outputs": [
    {
     "name": "stdout",
     "output_type": "stream",
     "text": [
      "000000000001000000000000000000001000000000000100000000000000000000000010000000000000000000000100000000000000000000100000000000000000000000000000100000000000000000000000001000000000000001000000000000000000000000000000000000000000000010000000000000000000000000001000000000000000000000000000000000000000010000000000000000000000000000000010000000000100100000000000000000000000000001000000000000000000000000000000000000000000000000000000000000000000000000000000000000000001000000000000000000000000000000000000000000000000000000000000000000000010000000000000000000100000000000000000000000000000000100000000000000000000000000000000000000000000000000000000000000000000000000000000000010000000000000000000000000000000000000000000100000000000000001000000000000000000000000000000000001000000000000000000000100000000000000000000000000001000000000000000000000000000000000000000001000000000100000000000000000000000000000010000000100000000000000000000000000000\n",
      "\n",
      "4206.0\n"
     ]
    }
   ],
   "source": [
    "complement_matrix = utils.find_complement_matrix(\"data/frb45-21-2.clq\")\n",
    "penalty_matrix = utils.apply_preparations(complement_matrix)\n",
    "iterated_ls = IteratedLS(penalty_matrix=penalty_matrix, max_time=10, type_search=\"local_search\", ls_type=\"best_improvement\", iterated_type=\"clique_combination\", initial_solution_type=\"rcisrs\")\n",
    "iterated_ls.make_iterated_local_search()\n",
    "print_result(iterated_ls.best_solution)\n",
    "print(iterated_ls.value)"
   ]
  },
  {
   "cell_type": "code",
   "execution_count": 22,
   "metadata": {},
   "outputs": [
    {
     "name": "stdout",
     "output_type": "stream",
     "text": [
      "000000000000000000000000000000000001000000000000000000000100000000000000000000000000000000000000000000000000000000000000000000000000000000001000000000000000000010000000000000000000000001000010000000000000000000000000000000000000000001000000000000100000000000000000000000000000000000000000000000000000000000000001000000000000000000000010000000000000000000000000100000000000000000100000000010000000000000000000000000000000000000000000010000000000000000000000000000000000000000010000000000000000000000000000000000001000000000000000000000000000000000100000000000000000000000000000000000001000000001000000000000000000000000000000000000000000000010000000000000000000000100000000000000000000000001000000000000001000000000000000001000000000000000000000000000000000100000000000000010000000000000000000001000000000000000000000000000000000000000000000000000000100000000100000000000000000000000000000000000000000000000000000000000000001000000001000000000000\n",
      "\n",
      "4130.0\n"
     ]
    }
   ],
   "source": [
    "complement_matrix = utils.find_complement_matrix(\"data/frb45-21-3.clq\")\n",
    "penalty_matrix = utils.apply_preparations(complement_matrix)\n",
    "iterated_ls = IteratedLS(penalty_matrix=penalty_matrix, max_time=10, type_search=\"local_search\", ls_type=\"best_improvement\", iterated_type=\"clique_combination\", initial_solution_type=\"rcisrs\")\n",
    "iterated_ls.make_iterated_local_search()\n",
    "print_result(iterated_ls.best_solution)\n",
    "print(iterated_ls.value)"
   ]
  },
  {
   "cell_type": "code",
   "execution_count": 23,
   "metadata": {},
   "outputs": [
    {
     "name": "stdout",
     "output_type": "stream",
     "text": [
      "000000000000000000000000000010000000000000000100000000000000000000000000000000000000000000000000000000010000000000000000000010000000000000000000000000000000000000000000000000000000000000000000100000000000000000000000000000000000000000000010000000000000000000000000000000000000000000000000000000000000000000000000000000000000000000000000000010000000000010000000001000000000000000000010000000000000000000000000000000000100000000000000000000000000000000000000010000000000000000000000000000000000000000000000000000000000000000010000000000000000100000001000000000000000000000000000010000001000000000000010000000000000000000000000000000000000000000000000000000000000000000000000010000000000000000000000000000000000000000000000000000010000000000000000001000000000000000001000000000000000000010000000000100000000000000000000000000001000000000000000000000000000000000000000000000000000000000000000000000000000100001100000000100100000001000000000000010000\n",
      "\n",
      "4200.0\n"
     ]
    }
   ],
   "source": [
    "complement_matrix = utils.find_complement_matrix(\"data/frb45-21-4.clq\")\n",
    "penalty_matrix = utils.apply_preparations(complement_matrix)\n",
    "iterated_ls = IteratedLS(penalty_matrix=penalty_matrix, max_time=10, type_search=\"local_search\", ls_type=\"best_improvement\", iterated_type=\"clique_combination\", initial_solution_type=\"rcisrs\")\n",
    "iterated_ls.make_iterated_local_search()\n",
    "print_result(iterated_ls.best_solution)\n",
    "print(iterated_ls.value)"
   ]
  },
  {
   "cell_type": "code",
   "execution_count": 24,
   "metadata": {},
   "outputs": [
    {
     "name": "stdout",
     "output_type": "stream",
     "text": [
      "000100000000000000000000000000000001000000000000000000000000000100000000000000000000000000000000000000000000000000000000000000000000000000000000000000001000000000000000000100000000000000000100000000000000000000000000000000000000000000000000000000000000000000001000000010000000000000000000000000000000000000000000000100000000000000000000001000000000100000000000000000000000000010000000100000000000000100000000000000000000000000000000000000000000000010000000000000000000000000000100000000000000000000000000010000000000000000000000000000000001000000000000100000000000000000000000010000000000000000000000000000000000100000000010000000000000000000000000000000000000000000000000000000000010000000000000000000000000000100000000000000000000000000000000001000000000000000000010000000000000000000000000010000010000000000000000000000000000000000000000000000000000000000000000000000000000000100000000001000000000000000000000000001000000000000000000000000000\n",
      "\n",
      "4232.0\n"
     ]
    }
   ],
   "source": [
    "complement_matrix = utils.find_complement_matrix(\"data/frb45-21-5.clq\")\n",
    "penalty_matrix = utils.apply_preparations(complement_matrix)\n",
    "iterated_ls = IteratedLS(penalty_matrix=penalty_matrix, max_time=10, type_search=\"local_search\", ls_type=\"best_improvement\", iterated_type=\"clique_combination\", initial_solution_type=\"rcisrs\")\n",
    "iterated_ls.make_iterated_local_search()\n",
    "print_result(iterated_ls.best_solution)\n",
    "print(iterated_ls.value)"
   ]
  },
  {
   "cell_type": "code",
   "execution_count": 25,
   "metadata": {},
   "outputs": [
    {
     "name": "stdout",
     "output_type": "stream",
     "text": [
      "0000000000000000000000000000000000000000000000000000000000000000000000000000000000001000000000000000000100000000000000000000000000000000000000000000000000100000000000000000000000000000000000010000000001000000000000000000000000000000000000000000000000000000000000000000000000000000000010000000000000000000000000000000000000000000000000000000000000000000000000000000000000000000000000011000000000000100000000000000000000000000000000000100000000000000000000000000001000001000000000000000000000000000001000000000000000000000010000000000000010000000000000000010000000000000010000000000000000000000000010000000000000000000000000000000000000100000010000000000000000000000000000000000000000000000000000000000000000000000000010000000000000000000000000100000000000000000100000000000000000001000000000000000010000000000000000000000000000000001000000000000000000000000000000000000000000000000000000000000000000001000000000000100000000000000000000000010000000000000000000000100000000000000000000000001000001000001000000000000000000000000000000000000000000000000000000000000000000000000000000000000000000000000100000000000000000000000000000000000000000000000000000\n",
      "\n",
      "5238.0\n"
     ]
    }
   ],
   "source": [
    "complement_matrix = utils.find_complement_matrix(\"data/frb50-23-1.clq\")\n",
    "penalty_matrix = utils.apply_preparations(complement_matrix)\n",
    "iterated_ls = IteratedLS(penalty_matrix=penalty_matrix, max_time=10, type_search=\"local_search\", ls_type=\"best_improvement\", iterated_type=\"clique_combination\", initial_solution_type=\"rcisrs\")\n",
    "iterated_ls.make_iterated_local_search()\n",
    "print_result(iterated_ls.best_solution)\n",
    "print(iterated_ls.value)"
   ]
  },
  {
   "cell_type": "code",
   "execution_count": 26,
   "metadata": {},
   "outputs": [
    {
     "name": "stdout",
     "output_type": "stream",
     "text": [
      "0000000000000000000000000000000000000000000000010000000000000000000000000000000000000000000000000000000000000000000000000000000000000000000000000000000000010000000000000000000000010000000000000000000100000000000000000000000000000100000000000000000000000000000100000000000000000000010000000000000000000000000000000000000010000000000000000000000000000000000000000000000000000000000000000000000000000001000000000000000000000000000000000000010000000000000000000000000000000000000000000000000000000000000000000000001000000000010000000001000000000000000000000100000000000000000000000000000010000000000000000000100000000000000000000000000010000000000000000000000100000000000000000100000000000000000000000000000000000000000000000000000010000000100000000000000000000000000000000000000000000000000001000000010000000000000000000000000000000000000000000000000000000000000001000000000000000000000000010000000000000000000000000000000000000100000000000000000010000000000000000000000000000000000000000000000000000001000000010000000000000000000000000001000000000000000000000000000000000000000000100001000000010000000000000000000000000000000001000000000000000010000000\n",
      "\n",
      "4671.0\n"
     ]
    }
   ],
   "source": [
    "complement_matrix = utils.find_complement_matrix(\"data/frb50-23-2.clq\")\n",
    "penalty_matrix = utils.apply_preparations(complement_matrix)\n",
    "iterated_ls = IteratedLS(penalty_matrix=penalty_matrix, max_time=10, type_search=\"local_search\", ls_type=\"best_improvement\", iterated_type=\"clique_combination\", initial_solution_type=\"rcisrs\")\n",
    "iterated_ls.make_iterated_local_search()\n",
    "print_result(iterated_ls.best_solution)\n",
    "print(iterated_ls.value)"
   ]
  },
  {
   "cell_type": "code",
   "execution_count": 27,
   "metadata": {},
   "outputs": [
    {
     "name": "stdout",
     "output_type": "stream",
     "text": [
      "0000000000000000000000000000000000000000000000000000000000000000000000001010000000000000000000000000000000000000000001000000000000000000000000000000000100000000000000000000000100000000010000000000000000000000000000000000000000000000000000000000000000000010000000000000000000000000000000000000000000000000000000000000000000000000000000000001000000000000000010000000000000000000000010000000001000000000000000000000000000000000010000000000000000000001000000000000000000000000000000000000000000000000000010000000000000000000000000000000000000000100100000000000000000000000000000000000000000000000000001000000000000000010000000000000000000000000000000000000000000000000000000000000000000001000000000000000000000000001000000000000000000000000000000000000000000100000000100000000000000000100000000000000000100000000000000000000000000000000000000000000000100000000000000000000000000000000000000010001000000000000000000000000000000000000000000000000000010000000000000010000000000001000000000000000100101000010000000000000000000000000000000000000000000000000000000000000000000000000000000000000000000000000000000000000000000000000000000000000000000000000000000\n",
      "\n",
      "5120.0\n"
     ]
    }
   ],
   "source": [
    "complement_matrix = utils.find_complement_matrix(\"data/frb50-23-3.clq\")\n",
    "penalty_matrix = utils.apply_preparations(complement_matrix)\n",
    "iterated_ls = IteratedLS(penalty_matrix=penalty_matrix, max_time=10, type_search=\"local_search\", ls_type=\"best_improvement\", iterated_type=\"clique_combination\", initial_solution_type=\"rcisrs\")\n",
    "iterated_ls.make_iterated_local_search()\n",
    "print_result(iterated_ls.best_solution)\n",
    "print(iterated_ls.value)"
   ]
  },
  {
   "cell_type": "code",
   "execution_count": 28,
   "metadata": {},
   "outputs": [
    {
     "name": "stdout",
     "output_type": "stream",
     "text": [
      "0000000000000000010000000000000000000000000000000000000000000000000000000000000000100000000000000000100000000000000000000001000000000010000000000000000000000000010000000000000000001000000000000000000100000000000000000000000000000000000000000000000000000000000000000000000000000000000000000000000000000000100000000000000000000000000100000000000000000010000000000000000000000001000000000000000000001000000000000000000000000000000000000000100000000000000000000000000000000000000000000000000000000000000000000000000000000000000000000000000000000000000000010000000000000000000000000010000000000000100000000000000000001000000000000000000000000000000000000000000000000000001000000000000000000000000000100000000000000000100000000000000000000100000000000000000000000000000000000000001000000000000000000000000000000000000001000000000000000000000000000000100000000000000000000000000000000000000000000000000000000000000000010000000000000000000001000000000000000100000000000000000000000100000000010000000001001000000000000000000000000000000000000000000000000000000000000000000000000000000000000000000000000000000000000000000000000000000000000010000000000010000000\n",
      "\n",
      "4740.0\n"
     ]
    }
   ],
   "source": [
    "complement_matrix = utils.find_complement_matrix(\"data/frb50-23-4.clq\")\n",
    "penalty_matrix = utils.apply_preparations(complement_matrix)\n",
    "iterated_ls = IteratedLS(penalty_matrix=penalty_matrix, max_time=10, type_search=\"local_search\", ls_type=\"best_improvement\", iterated_type=\"clique_combination\", initial_solution_type=\"rcisrs\")\n",
    "iterated_ls.make_iterated_local_search()\n",
    "print_result(iterated_ls.best_solution)\n",
    "print(iterated_ls.value)"
   ]
  },
  {
   "cell_type": "code",
   "execution_count": 29,
   "metadata": {},
   "outputs": [
    {
     "name": "stdout",
     "output_type": "stream",
     "text": [
      "0000000000000000000100000000000000000000000000000000000000000000000000000100000000000000000000000000000000000000000000000000000000000100000000000000000000000000000100000000000000000000000000000010000000000000000001000010000000000000000000000000000000000000000000000000000000000000000010000000100000000000000000010000000000000000000001000000000000000000000000000000000000000000000000000000000000000000000000000010000000000000001000000000000000000000000100000000000000000000000000010000000000000000000000000000000000000000000100000000000000000000000000000000000000000000010000000000000000000000000100000000000000000000000000000000000000000000000000000000000000000000000000000000000000000000000000000000001000000000000000000000100000000000000000000000000000000000100000000000000000000000001000001000000000000000000000000001000000000000000000000000000000000000000000100000000000000000000000000000000000000000000000000000000000000000000000000001000010000000000000000000000000000000000000000000000000010000000000000000000000000000000000000100000000000000000000000000000000001000000000000000000000000000000100000000000000000000000000100100000000000010000000\n",
      "\n",
      "4439.0\n"
     ]
    }
   ],
   "source": [
    "complement_matrix = utils.find_complement_matrix(\"data/frb50-23-5.clq\")\n",
    "penalty_matrix = utils.apply_preparations(complement_matrix)\n",
    "iterated_ls = IteratedLS(penalty_matrix=penalty_matrix, max_time=10, type_search=\"local_search\", ls_type=\"best_improvement\", iterated_type=\"clique_combination\", initial_solution_type=\"rcisrs\")\n",
    "iterated_ls.make_iterated_local_search()\n",
    "print_result(iterated_ls.best_solution)\n",
    "print(iterated_ls.value)"
   ]
  },
  {
   "cell_type": "code",
   "execution_count": 30,
   "metadata": {},
   "outputs": [
    {
     "name": "stdout",
     "output_type": "stream",
     "text": [
      "010000000000000000000000000000000000000000100000000000000000000000000000000000000000000000000000000000100000000000000000000000000000000000000000000000000000000000000000000010000100000000000000000001000000000000000000000000000000000000000000000000000000000000000000100000000000000000000000000000000000000100000000000000000000000000000000000000000000000000000000000000000000000000000010000000000000000000000000000000000000000000000000001000000000000000000000000000000000000000000000000000000000000000000000000000000000000000000000000000000000000000000000010000000000000000000000000000000000001000000000000000000000000000000000000000000000000000000000000000000000000000100100000000000000000000000000000000000000000000000000000000000000000100000000000000000000000000000000000000100000000000100000000000000000000000000000000000000000000000000000000001000000000000000000000010001000000000000000000000000000000000000000000000000000000000001000000000000000000000100000000010000000000010000000000000000000000100000000000000000000000000000001000000000000000000000000000001000000000000000000000000000000000000000000000000000000000000000000000000000000000000101000000000100000000010001000100000000000000000010000000100000000000000000000000000000000000000000000000000000000000000000000\n",
      "\n",
      "5221.0\n"
     ]
    }
   ],
   "source": [
    "complement_matrix = utils.find_complement_matrix(\"data/frb53-24-1.clq\")\n",
    "penalty_matrix = utils.apply_preparations(complement_matrix)\n",
    "iterated_ls = IteratedLS(penalty_matrix=penalty_matrix, max_time=10, type_search=\"local_search\", ls_type=\"best_improvement\", iterated_type=\"clique_combination\", initial_solution_type=\"rcisrs\")\n",
    "iterated_ls.make_iterated_local_search()\n",
    "print_result(iterated_ls.best_solution)\n",
    "print(iterated_ls.value)"
   ]
  },
  {
   "cell_type": "code",
   "execution_count": 31,
   "metadata": {},
   "outputs": [
    {
     "name": "stdout",
     "output_type": "stream",
     "text": [
      "000000000001000000000000000000000000000000000000000000000000000000000000010000000000000000000000000000000000000000000000000000000000000000000000000000000000000010000000000000000000000000000100000000000000000100000000000000000000000000000000000000000000000000000000000000000000000000100000000000000010000000000000000000000000100000000000000000000000100000000000000010000000000000000000000000000000010000000000000000100000000000000000000000001000000000001000000000000000000000000000000000000000000000000000000000000000000000000000000000000000000000000000000000000000000000000001000000010000000000000000000000000000000000001000000000000000010000000000000000000000000000000000000000000000010000000000000000000000000000000000000000000000000100000000000000010000000000000000000000000000000001000000000000000000000000000000000000000000010000000000000000000000000000000000000000100000000000000000000000000000000000000000000000000000000000000000000000000000000000010000000000000000000000000000000000000000000100000000000000000000000000000000000000001000000000000000000000000010000000000000000000000000000000000000100000000000010001000000000101000010000000000010000000000000100000000100000010000000000000000010000000000000000000000000000000000000000000000000000000000000000000000000\n",
      "\n",
      "5399.0\n"
     ]
    }
   ],
   "source": [
    "complement_matrix = utils.find_complement_matrix(\"data/frb53-24-2.clq\")\n",
    "penalty_matrix = utils.apply_preparations(complement_matrix)\n",
    "iterated_ls = IteratedLS(penalty_matrix=penalty_matrix, max_time=10, type_search=\"local_search\", ls_type=\"best_improvement\", iterated_type=\"clique_combination\", initial_solution_type=\"rcisrs\")\n",
    "iterated_ls.make_iterated_local_search()\n",
    "print_result(iterated_ls.best_solution)\n",
    "print(iterated_ls.value)"
   ]
  },
  {
   "cell_type": "code",
   "execution_count": 32,
   "metadata": {},
   "outputs": [
    {
     "name": "stdout",
     "output_type": "stream",
     "text": [
      "000000000000000000000100000000000000000000000000000000000000000000100000000000000000000000001000000000000000000000000000000000000000010000000100000000000000000000000000000000000000000000000000000000000000000000000000000000001000000000000000000000100000000000000000000000000000000000000000000000000000001000000000000000000000000000001000000000000000000000000000000100000000000000000000000000000000100000000000000000000000000000000000000000000000000000000000000000000000000000000000000000000000000000000000000000000000000000000000001000000000000000000000000000000001000000000000000000000010000000000000000000000000000000000000000000000000000000000000000000100000010000000000000000000000000000000000000010000000000000000000000000000000000000000000000000001000000000000000010000000000000000010000000000000000010000000000000000000000000000000000000000100000000000000000001000000000000000000000000000000000000000000000000000000010000000000000000000000000000000000010000000000000000000000000000000000100000100000000000000000000000000000000000000000000000010000000000000000000000000010000000000000100000000000000000000000000000000100000000000000000000000000000000000000000000000000010001000000010000000000001000000000000000000000000000100000000000000000000000000001000000000000000\n",
      "\n",
      "5124.0\n"
     ]
    }
   ],
   "source": [
    "complement_matrix = utils.find_complement_matrix(\"data/frb53-24-3.clq\")\n",
    "penalty_matrix = utils.apply_preparations(complement_matrix)\n",
    "iterated_ls = IteratedLS(penalty_matrix=penalty_matrix, max_time=10, type_search=\"local_search\", ls_type=\"best_improvement\", iterated_type=\"clique_combination\", initial_solution_type=\"rcisrs\")\n",
    "iterated_ls.make_iterated_local_search()\n",
    "print_result(iterated_ls.best_solution)\n",
    "print(iterated_ls.value)"
   ]
  },
  {
   "cell_type": "code",
   "execution_count": 33,
   "metadata": {},
   "outputs": [
    {
     "name": "stdout",
     "output_type": "stream",
     "text": [
      "000000000000000000000000010000000000000000000000000000100000000000000000000000000000100000000000000000000000010000000000000000000000000000000000000000000000000000000000000000000000000000000000000000000000000000000000000000000000000000000000000000000000000000000000000000000000000000010000000000000000000000000000000000000000000000000000001000000000000000000000000000100000000001000000000000000000000000000000000000000000000000000000000000000000000000000001000000000000000000000000000000000000100000000000000000000000000000000000000000000000000000000000000000000000000000000010000000000000000000000000000010000000000000000100000000000000000000000000000000100000000000000000000000000000000000000000000000000000000000000000000000000000000000000100000000000000000000000000000000000000100000010000000000000000000000100000000000000000000000000000000000010000000000000000000000100000000000000000000001000000000000010000000000000100000000000000100000000000000000000000000000000000000001000000000000100000000000000000000000000000000010000000000000000000000000000000000000001000000000000000000000100000000000000000000000000000000000000000000001000000000000000010000000000001001000100000000000100000010100000000000000000000000000000000000000000000000000000000000000000000000000000000\n",
      "\n",
      "5304.0\n"
     ]
    }
   ],
   "source": [
    "complement_matrix = utils.find_complement_matrix(\"data/frb53-24-4.clq\")\n",
    "penalty_matrix = utils.apply_preparations(complement_matrix)\n",
    "iterated_ls = IteratedLS(penalty_matrix=penalty_matrix, max_time=10, type_search=\"local_search\", ls_type=\"best_improvement\", iterated_type=\"clique_combination\", initial_solution_type=\"rcisrs\")\n",
    "iterated_ls.make_iterated_local_search()\n",
    "print_result(iterated_ls.best_solution)\n",
    "print(iterated_ls.value)"
   ]
  },
  {
   "cell_type": "code",
   "execution_count": 34,
   "metadata": {},
   "outputs": [
    {
     "name": "stdout",
     "output_type": "stream",
     "text": [
      "000000000000000000000001000000000000000000000000000000000000000000000000000000000000000000000000001000000000000000000000000000000000000000000000000000001000000000010000000000000000000000000000000000000000000010000000000000000000000000000000000000000000000000000000000001000000000000000000000000001000000000000000000000000000000000000001000000000000000000000000000000001000000000000000000000000000010000000000000000000000000001000000000000000000000000000000000000010000000000000000000000000000000000000000000000000000000000000000000100000000000000000000000000000000000000000010000000000000000000000000000000000000000000000000000000000000000000000000000000000000000000000000000000000000000000000000001000000000000000000000000000000001000000000000000000000000000000000100000000000000000000000000001000010000000000000000000000000000000000000000000000000000000000000000000000000001000000000000100000000000000000000000000010000000000000000000010000000000000000000000001000000000000000000000000000000010000000000000000000000000000000000000000000000000000000000000000000000000000000000000000010000000000000010000000000000010000010000000100001010000000000010000000010000010010000000001000010000000000000000000000000000000000000000000000000000000000000000000000000000000000000000000\n",
      "\n",
      "5464.0\n"
     ]
    }
   ],
   "source": [
    "complement_matrix = utils.find_complement_matrix(\"data/frb53-24-5.clq\")\n",
    "penalty_matrix = utils.apply_preparations(complement_matrix)\n",
    "iterated_ls = IteratedLS(penalty_matrix=penalty_matrix, max_time=10, type_search=\"local_search\", ls_type=\"best_improvement\", iterated_type=\"clique_combination\", initial_solution_type=\"rcisrs\")\n",
    "iterated_ls.make_iterated_local_search()\n",
    "print_result(iterated_ls.best_solution)\n",
    "print(iterated_ls.value)"
   ]
  },
  {
   "cell_type": "code",
   "execution_count": 35,
   "metadata": {},
   "outputs": [
    {
     "name": "stdout",
     "output_type": "stream",
     "text": [
      "00000000000000000000000000000000000000000000000010000000000000000000000000000000000000000000000000000000000000000000000000000000000000000000000000000000000000000000000100000000000000000000000000010000000000000000000000000000000000000000000000010000000000000000000000000000000000000000000000000000000000000000000000000000000001000000000000000000000000000000000000000000000000000000000000000000000000000000000000000000000000000001000000000000000100000000000000000000000000000000010000000000000100000000000000000000000001000000000000000000000000000000000000000000000000000000000000100000000000010000000000000000000000000010000000000000000000000000010000010000000000000000000000000000000000000000000000000000000000000000000100000000000000000000000000000000000000000100000000000001000000000000000000010000000000000000000000000000000000000000000000000000100000000000000000000000000000000000000000000000000000000000000000000000000000000000100000000000000000000000000001000000000000000000000000000000000001000000100000000000000000000000000000000000000000000000000000000000000000000000000000000000000000100000000000000000000001000000000000000000000000000000000001000000000000000000000000000000000000100000000000000000000000000000000000010000000000000010000000000000000000000000000000000000010000000000100000000000000000000000000000000000000000000000010000000000100001000000000100001000000000000000000001000000\n",
      "\n",
      "5183.0\n"
     ]
    }
   ],
   "source": [
    "complement_matrix = utils.find_complement_matrix(\"data/frb56-25-1.clq\")\n",
    "penalty_matrix = utils.apply_preparations(complement_matrix)\n",
    "iterated_ls = IteratedLS(penalty_matrix=penalty_matrix, max_time=10, type_search=\"local_search\", ls_type=\"best_improvement\", iterated_type=\"clique_combination\", initial_solution_type=\"rcisrs\")\n",
    "iterated_ls.make_iterated_local_search()\n",
    "print_result(iterated_ls.best_solution)\n",
    "print(iterated_ls.value)"
   ]
  },
  {
   "cell_type": "code",
   "execution_count": 36,
   "metadata": {},
   "outputs": [
    {
     "name": "stdout",
     "output_type": "stream",
     "text": [
      "00000000000000000000000000000000000000000000000000000000000000010000000000000000000000000000000000000000000000001000000000000000000000000000000000000000000100000010000000000000000000000000001000000000000000000000010000000000000000000000000000000000000000000000000000001000000000000000000000000010000000000000010000000000000000000000001000000000000000000100000000000000000000000000000000000000000000000000000000000000001000000000000001000000000000000000000000000000000000000000000000000000000000000000000100000000000000000000000000001000000000000001001000000000000000000000000000001000000000000000001000000000000000000000000010000000000000000000000000000000000000000000000000000000000000000000000000000000000000000000000000000000000000000000000000000000000000000000010000000000000000000100000100000000000000000000000000000000000000000001000000000000000000000000000000000000000000000000000000000000000000000000000010000000000000000000000000000000000000000000000000000000000000000000000000010000000000000000000000000000000100000000000001000000000000000000000000000000000000000000000000000001000000000000000000001000000000000000000000000000000000010000000000000000000100000000000000000000000000000010000000000000000000000000000000000000000000000000000000000000000000010000000000000000000000000000000000000000000000000000000000001000010000000000000000000000000000000000000000000000010000000000000000001000\n",
      "\n",
      "5466.0\n"
     ]
    }
   ],
   "source": [
    "complement_matrix = utils.find_complement_matrix(\"data/frb56-25-2.clq\")\n",
    "penalty_matrix = utils.apply_preparations(complement_matrix)\n",
    "iterated_ls = IteratedLS(penalty_matrix=penalty_matrix, max_time=10, type_search=\"local_search\", ls_type=\"best_improvement\", iterated_type=\"clique_combination\", initial_solution_type=\"rcisrs\")\n",
    "iterated_ls.make_iterated_local_search()\n",
    "print_result(iterated_ls.best_solution)\n",
    "print(iterated_ls.value)"
   ]
  },
  {
   "cell_type": "code",
   "execution_count": 37,
   "metadata": {},
   "outputs": [
    {
     "name": "stdout",
     "output_type": "stream",
     "text": [
      "00000000000000000000000010000000000000000000000000000000000000000000000000000000000000000000000000000000000000000000000000001000000000000100000000000000000000000000100000000000000000000000000000000000000000100000000000000000000000000000000000000000000000000001000000000000000000000000000000000000000000000000000000000000000000000000000000000000000000000000000000000000010000000000000000000000000000000000000000000000000000000000000000001000000000000000000000000001000000000000000000000000000000000000000000000000000100000010000000000000000000000000000000000000000000000001000000000000000000000000100000000000100000000000000000000000000000000000000000100000010000000000000000000000000000000000001000000000000000000100000000000000000000000000000000000000000100000000000000000000000000000010000000000000000000000000000000000000000000000000000000000100000000010000000000000100000000000000000000001000000000000000000000000000000000001000000000000000000000000000000000000000000000000010000000000000000100000000000000000000000000000010000000000000000100000000000000010000000000000000000000000000000000000000000000000000000000000000000000000000000000000000000000000000000000000100000000010000000000000000000100000000000000000000000000000000000000000000000000000000000000000000000000000000000000000000000000000000010000000000000000000000000100001000000000000000000000000001000100000000000000000000000001000000\n",
      "\n",
      "5459.0\n"
     ]
    }
   ],
   "source": [
    "complement_matrix = utils.find_complement_matrix(\"data/frb56-25-3.clq\")\n",
    "penalty_matrix = utils.apply_preparations(complement_matrix)\n",
    "iterated_ls = IteratedLS(penalty_matrix=penalty_matrix, max_time=10, type_search=\"local_search\", ls_type=\"best_improvement\", iterated_type=\"clique_combination\", initial_solution_type=\"rcisrs\")\n",
    "iterated_ls.make_iterated_local_search()\n",
    "print_result(iterated_ls.best_solution)\n",
    "print(iterated_ls.value)"
   ]
  },
  {
   "cell_type": "code",
   "execution_count": 38,
   "metadata": {},
   "outputs": [
    {
     "name": "stdout",
     "output_type": "stream",
     "text": [
      "00000000000000000000000000000000000010000000000000000000000000000000000000000000000000000000001000000000000000000000001000000000000000000000000000000000000100000000000000000000000001000000000000000000000000000000000000000000000000000001000000000000000000000010000000000000010000000000000000000000000000000000000000000000000000000000000000000000000000000000000000000000000000000000000000000000000001010000000000000000000000000000000000000000000000000000000000000010000000000000000000000000000000000000000000000000000000000000000000000001000000000000000000000000000000000000000001000000000000000000000000000000000000000000000000000000000000000000000000000000000000000000000000000000000000000000000000000000000000000010000000000000000000000000000000000000000000010000000000000000000000000000001000000010000000000000000000000000000000000000010000000000000000000000000000000000000000000000000000000000000000100000000000000000000000001000000000000001000000000000000000000000000000000000100000000000010000000000000000000000000000000000000000010000000000000000000000010000000000000000000000000000000000000000000000000000001000000000000000000000000000000000000000000000000100000000000000000000000000100010000000000000000000000000000000000100000000000000000000000000000000000000000000000001000010000000001000001000000000000000000000000000000000000100000000000000000001000000001000000000000000000000000000100000\n",
      "\n",
      "5352.0\n"
     ]
    }
   ],
   "source": [
    "complement_matrix = utils.find_complement_matrix(\"data/frb56-25-4.clq\")\n",
    "penalty_matrix = utils.apply_preparations(complement_matrix)\n",
    "iterated_ls = IteratedLS(penalty_matrix=penalty_matrix, max_time=10, type_search=\"local_search\", ls_type=\"best_improvement\", iterated_type=\"clique_combination\", initial_solution_type=\"rcisrs\")\n",
    "iterated_ls.make_iterated_local_search()\n",
    "print_result(iterated_ls.best_solution)\n",
    "print(iterated_ls.value)"
   ]
  },
  {
   "cell_type": "code",
   "execution_count": 39,
   "metadata": {},
   "outputs": [
    {
     "name": "stdout",
     "output_type": "stream",
     "text": [
      "00000000000000000000000000000000000000000000000000010000000000000000000000000000000000000000000100000000000001000000000000000000000000000000000000000100000001000000000000000000000000000000000000000000000000000000000000000000000000000000000000000000000000000100000000010000000000000000000000000000000000000000000000000000000000100000000000000000000000000000100000000000000000000000000000010000000000000000000000000000000000000000000000000000000000000000000000000000000000010000000000000000000000000000000000000000000001000010000000000000000000010000000000000000001000000000000010000000000000000000000000000000000000000000000001000010000000000000000000000000000000000000000000000000000000000100000000000000000000000000000000000000000010000000000000000000000000000000000000000010000000000100000000000000000000000000000000000000000000000000000000000000000000000000010000000000000010000000000000000000000000000010000000000000000000000010000000000010000000000000000000000000000000000000000001000000000000010000000000000000000000000000000000000000000000000000010000000000000000001000000000000000000000000000000000000000000000100000000000000000000000000000000000000000000000000000000000000000001000000000000000000000000000000000000000000000000000000000000000000001000000000000000000000000000000000000000000001000000000000000000000100000000000000000000000000000000000010001000000000000000000000001000000000000\n",
      "\n",
      "5444.0\n"
     ]
    }
   ],
   "source": [
    "complement_matrix = utils.find_complement_matrix(\"data/frb56-25-5.clq\")\n",
    "penalty_matrix = utils.apply_preparations(complement_matrix)\n",
    "iterated_ls = IteratedLS(penalty_matrix=penalty_matrix, max_time=10, type_search=\"local_search\", ls_type=\"best_improvement\", iterated_type=\"clique_combination\", initial_solution_type=\"rcisrs\")\n",
    "iterated_ls.make_iterated_local_search()\n",
    "print_result(iterated_ls.best_solution)\n",
    "print(iterated_ls.value)"
   ]
  },
  {
   "cell_type": "code",
   "execution_count": 40,
   "metadata": {},
   "outputs": [
    {
     "name": "stdout",
     "output_type": "stream",
     "text": [
      "0000000000000000000000000000000000000000000000000010000000000000000000000000000000000000000000000000001000000000000000000000000000000000000000000000000000000000000010000000000000000000000000000000000000000000000000000000000000000000000000000000000000000000000000000000010000000000000000000000000000000000000000000100000000000000000000000000100000000000000000000000001000000000000000000000000000000000000000000000000000000000000000000000000100000000000000000000000000000000000000000000000000000000000000000000000000000000000000000000000000000000000000000000000000000000000000000000000000000000010000000001000000000000000000000000010000000000000000000000000000000000000000000000000000000000000000000000000000000000000000000000000000000000100000000000001000000000000000000000000000000000010000000000001000000000000000000000100000000000000000000000000000000000000000001000000000000000000000000000000001000000000000000000000000100000000000000010000000000000000000000000010000100000000000000000000000000001000000000000000000000000000000000000000000000000000000010000000000000000000010000000000000000000000000000000000000000000000000000000000000000000000000000000000000000000010000000000000000010000000000000000000000000000000000000000000000000000000000000000000000000000000000000001000000000000000000000000100000000000000000000000000000000000000000000000001010000000000000100000000101000001000000000100000000000000000000000000000000000000000000000000000000000000000000001000000000000000000000000000000000100000000000000000000000000000000000\n",
      "\n",
      "6305.0\n"
     ]
    }
   ],
   "source": [
    "complement_matrix = utils.find_complement_matrix(\"data/frb59-26-1.clq\")\n",
    "penalty_matrix = utils.apply_preparations(complement_matrix)\n",
    "iterated_ls = IteratedLS(penalty_matrix=penalty_matrix, max_time=10, type_search=\"local_search\", ls_type=\"best_improvement\", iterated_type=\"clique_combination\", initial_solution_type=\"rcisrs\")\n",
    "iterated_ls.make_iterated_local_search()\n",
    "print_result(iterated_ls.best_solution)\n",
    "print(iterated_ls.value)"
   ]
  },
  {
   "cell_type": "code",
   "execution_count": 41,
   "metadata": {},
   "outputs": [
    {
     "name": "stdout",
     "output_type": "stream",
     "text": [
      "0000000000000000000000010000100000000000000000000000000000000000000000000000000000000000000000000000000000000000000000000000000000000001000000000000000000000000001000000000000000000000000000000001000000000000000000000000000000000000000000000000000000000001000000000000000000000000000000000000000000010000000000000000000000000000000000000000000000010000000000000000000000000100000000000000000000000001000000000000000000000000100000000000000000000000000000000000000000000000000000000000000000000000000000000000000000000000000000000000001000000000000000000100000000000000000000000000001000010000000000000000000000000000000000000000000000000000000000000000000000000000000000000000000000000001000100000000000000000000100000000000000000000000000001000000000000000000000000000000000000010000000000000000000000000000000000000000000000000000000000000000000000000000001000000000010000000000000000000000000000000000000000000100000001000000000000000000000000000000000000001000000000100000000000000000000000000000000000000000000000000000000000000000000100000000000000000000100000000000000000010000000000000000000000000000000010000000000000010000000000000000000000000000000001000000000000000000000000000001000000000000000000000000000000000000000000000000000000000000000000000000000000000000000000000000000000000000001000000000000000000000000000010000000000000000001000000000000000010000000000000001000000100000000000000000000000000000000000000000000000000000000000000000000000000000000000000000000000000000000000000000000000000000000000000000001000\n",
      "\n",
      "5294.0\n"
     ]
    }
   ],
   "source": [
    "complement_matrix = utils.find_complement_matrix(\"data/frb59-26-2.clq\")\n",
    "penalty_matrix = utils.apply_preparations(complement_matrix)\n",
    "iterated_ls = IteratedLS(penalty_matrix=penalty_matrix, max_time=10, type_search=\"local_search\", ls_type=\"best_improvement\", iterated_type=\"clique_combination\", initial_solution_type=\"rcisrs\")\n",
    "iterated_ls.make_iterated_local_search()\n",
    "print_result(iterated_ls.best_solution)\n",
    "print(iterated_ls.value)"
   ]
  },
  {
   "cell_type": "code",
   "execution_count": 42,
   "metadata": {},
   "outputs": [
    {
     "name": "stdout",
     "output_type": "stream",
     "text": [
      "0000000000000000000000010000000000000000000000000000000000010000000000000000001000000000000000000000000000000000000000000001000000000000000000000000000000000000000000000100000000000000000000000000000100000000000000000000000100000000000000000000000000000000010000000000000000000000000000000000000001000000000000000000000000100000000000000000000000000000001000000000000000000000000000000000000000000000000000000000000000000000000000000000000000000000000000000000000000000000000000000001000000000000000000000000000000000000000000000000000000000000000000000000000000000000000000000000000000000000000000000000000000000000000000000000000001000000000000000000000000000010000000000000000000000000000000000000000000010000000000000010000010000000000000000000000000000000000000000000000010000000000000000000000000000000000000000000000000000000000000000000000000000100000000000000000000000000000000000000000000000000000000000100000000000010000000000000000000000010000000000000000000100000000000000000000000000100000000000000000000000000001000000000010000000000000000000000000000000000000000000000000000000000000000000000000000001000000000000000000000001000000000000000000001000000000000000000000000000000000010000000000000000000000000000000000000000000000000001000001000000000000000000000000000000010000000000000001000000000000000000000000001000000000000000010000000000000000000000000000000001000000000100100000000000000000000000000000000000000000000000000000000000000000000000000000000000000000000000000000000000000000001000000000000000000100000\n",
      "\n",
      "5495.0\n"
     ]
    }
   ],
   "source": [
    "complement_matrix = utils.find_complement_matrix(\"data/frb59-26-3.clq\")\n",
    "penalty_matrix = utils.apply_preparations(complement_matrix)\n",
    "iterated_ls = IteratedLS(penalty_matrix=penalty_matrix, max_time=10, type_search=\"local_search\", ls_type=\"best_improvement\", iterated_type=\"clique_combination\", initial_solution_type=\"rcisrs\")\n",
    "iterated_ls.make_iterated_local_search()\n",
    "print_result(iterated_ls.best_solution)\n",
    "print(iterated_ls.value)"
   ]
  },
  {
   "cell_type": "code",
   "execution_count": 43,
   "metadata": {},
   "outputs": [
    {
     "name": "stdout",
     "output_type": "stream",
     "text": [
      "0000000010000000000000000000000000000000000000000000000000000000000010000000000000000000000000000010000000000000000000000000000000000000000000000000000000000000100000000000000000001000000000000000100000000000000000000000000000000000000000001000000000000000000000000000000000000000000000000001000000000000000000010000000000000000000000000000000000000000000000000000000000000010000000000000000000000001000000000000000000000000000000000010000000000000000000000000000000000000000000000010000000000000000000000000000100000000000000000000000000000000000000000000000001000000000000001000000000000000000000000000000000000000000000000000001000000000000000000100000000000000000000000000100000000000000000000000000000000000000000000000000000000000000000010000000000000000000000000000000100000000000000000010000000000000000001000000000000001000000000000000000000000000000000000000001000000000000000000000000100000000000000000001000000000000000010000000000000000000010000000000000000000000000000000010000010000000000000000000000000000000000000000000000000000000010000000000000000000000010000000000000000000000000000000000000010000000000000000010000000000000100000000000000000000000000000000000000100000000000000000000000000000000000000000000000000000000000000000000000000000000000000000000000000000000000000000000000000000010000000000000000000000000000010000000000000000001000000000000000000001000000000000010001100000000000000000000000000000000000000000000000000000000000000000000000000000000000000000000000000000000000000000000000000000000000000\n",
      "\n",
      "5455.0\n"
     ]
    }
   ],
   "source": [
    "complement_matrix = utils.find_complement_matrix(\"data/frb59-26-4.clq\")\n",
    "penalty_matrix = utils.apply_preparations(complement_matrix)\n",
    "iterated_ls = IteratedLS(penalty_matrix=penalty_matrix, max_time=10, type_search=\"local_search\", ls_type=\"best_improvement\", iterated_type=\"clique_combination\", initial_solution_type=\"rcisrs\")\n",
    "iterated_ls.make_iterated_local_search()\n",
    "print_result(iterated_ls.best_solution)\n",
    "print(iterated_ls.value)"
   ]
  },
  {
   "cell_type": "code",
   "execution_count": 44,
   "metadata": {},
   "outputs": [
    {
     "name": "stdout",
     "output_type": "stream",
     "text": [
      "0000000000000000000000000000000000000000000000000000000000000000000000100000000000000000000000000000000000000000000000000000000100000000000000000000000000000000000000000000001000000000000000010000000000000000000000000000000000000000000000000000000000000000000000000000000001000000000001000000000000000000000000000000100001000000000000000000000000001000000000000000000000000000000000000000000000000010000001000000000000000000000000000000000000000000000000000000000000000000000000000000000000000000000000000000000000000000000000000000000000000000000000000000000000000000000010000000000000000000000100000000000000000000000000000000000000000000000000000000100000001000000000000000000000000001000000000000000000000000000000000000000000000010000000000000000000000000000000000000100000001000000000000000000000000000000000000000000010000000000000000000000000000000000010000000000000000000000000000000000000000000000000001000000000000000000100000000000000000000100000000000000000000000010000000000001000000000000000000000000000100000000001000000000000000000000000001000000000000001000000000000000000000000000000000000000100000000000000000000000000000001000000000000000000000000000000000000000000100000000100000000000000000000000000000000000000000000000000000000100000000000000000000000000000000000000100000000000000000000000000000000010000000000000000000000000000000000000000000000000010000000000000001000100000000000000000000000000000000000000000000000000000000000000000000000000000000000000000000000000000000000000000000000000000000000000000\n",
      "\n",
      "5680.0\n"
     ]
    }
   ],
   "source": [
    "complement_matrix = utils.find_complement_matrix(\"data/frb59-26-5.clq\")\n",
    "penalty_matrix = utils.apply_preparations(complement_matrix)\n",
    "iterated_ls = IteratedLS(penalty_matrix=penalty_matrix, max_time=10, type_search=\"local_search\", ls_type=\"best_improvement\", iterated_type=\"clique_combination\", initial_solution_type=\"rcisrs\")\n",
    "iterated_ls.make_iterated_local_search()\n",
    "print_result(iterated_ls.best_solution)\n",
    "print(iterated_ls.value)"
   ]
  },
  {
   "cell_type": "code",
   "execution_count": 45,
   "metadata": {},
   "outputs": [
    {
     "name": "stdout",
     "output_type": "stream",
     "text": [
      "000000000000000000000000000000000000000000000000000000000000000000000000000000000000000010000000000000000000000000000100000000000000000000000000000000000010000000000000001000000000000000000100000000000000000000000000000100000000000001000000000001000000000000000000000000000000000000001000000000000000000001001000000000000000000000001000000000000000100000000001000000000001000010000010100001000000010000000000000000000000000000000010000001000000000000\n",
      "\n",
      "3174.0\n"
     ]
    }
   ],
   "source": [
    "complement_matrix = utils.find_complement_matrix(\"data/frb30-15-1.clq\")\n",
    "penalty_matrix = utils.apply_preparations(complement_matrix)\n",
    "iterated_ls = IteratedLS(penalty_matrix=penalty_matrix, max_time=10, type_search=\"local_search\", ls_type=\"best_improvement\", iterated_type=\"clique_combination\", initial_solution_type=\"rcisrs\")\n",
    "iterated_ls.make_iterated_local_search()\n",
    "print_result(iterated_ls.best_solution)\n",
    "print(iterated_ls.value)"
   ]
  },
  {
   "cell_type": "code",
   "execution_count": 47,
   "metadata": {},
   "outputs": [
    {
     "name": "stdout",
     "output_type": "stream",
     "text": [
      "0000000000000000000000000000000000000000000000000000000000000000000000000000000000000000000000000000000000000000000000000000000000000000000000000000000000000000000000000000000000000000000000000000000000000000000000000000000000000000000000000000000000000000000000000000000000000000000000000000000000000000000000000000000000000000000000000000000000000000000000000000000000000000000000000000000000000000000000000000000000000000000000000000000000000000000000000000000000000000000000000000000000000000000000000000000000000000000000000000000000000000000000000000000000000000000000000000000000000000000000000000000000000000000000000000000000000000000000000000000000000000000000000000000000000000000000000000000000000000000000000000000000000000000000000000000000000000000000000000000000000000000000000000000000000000000000000000000000000000000000000000000000000000000000000000000000000000000000000000000000000000000000000000000000000000000000000000000000000000000000000000000000000000000000000000000000000000000000000000000000000000000000000000000000000000000000000000000000000000000000000000000000000000000000000000000000000000000000000000000000000000000000000000000000000000000000000000000000000000000000000000000000000000000000000000000000000000000000000000000000000000000000000000000000000000000000000000000000000000000000000000000000000000000000000000000000000000000000000000000000000000000000000000000000000000000000000000000000000000000000000000000000000000000000000000000000000000000000000000000000000000000000000000000000000000000000000000000000000000000000000000000000000000000000000000000000000000000000000000000000000000000000000000000000000000000000000000000000000000000000000000000000000000000000000000000000000000000000000000000000000000000000000000000000000000000000000000000000000000000000000000000000000000000000000000000000000000000000000000000000000000000000000000000000000000000000000000000000000000000000000000000000000000000000000000000000000000000000000000000000000000000000000000000000000000000000000000000000000000000000000000000000000000000000000000000000000000000000000000000000000000000000000000000000000000000000000000000000000000000000000000000000000000000000000000000000000000000000000000000000000000000000000000000000000000000000000000000000000000000000000000000000000000000000000000000000000000000000000000000000000000000000000000000000000000000000000000000000000000000000000000000000000000000000000000000000000000000000000000000000000000000000000000000000000000000000000000000000000000000000000000000000000000000000000000000000000000000000000000000000000000000000000000000000000000000000000000000000000000000000000000000000000000000000000000000000000000000000000000000000000000000000000000000000000000000000000000000000000000000000000000000000000000000000000000000001111111111110000000000000000000000000000000000000000000000000000000000000001111111111100000000000000000000000000000000000000000001111110000000000000000000000000011000000000000011000000000000011000000000000010000000001000000000010000010000000010000000000000000000000000000000000000000000000000000000000000000000000000000000000000000000000000000000000000000000000000000000000000000000000000000000000000000000000000000000000000000000000000000000000000000000000000000000000000000000000000000000000000000000000000000000000000000000000000000000000000000000000000000000000000000000000000000000000000000000000000000000000000000000000000000000000000000000000000000000000000000000000000000000000000000000000000000000000000000000000000000000000000000000000000000000000000000000000000000000000000000000000000000000000000000000000000000000000000000000000000000000000000000000000000000000000000000000000000000000000000000000000000000000000000000000000000000000000000000000000000000000000000000000000000000000000000000000000000000000000000000000000000000000000000000000000000000000000000000000000000000000000000000000000000000000000000000000000000000000000000000000000000000000000000000000000000000000000000000000000000000\n",
      "\n",
      "5975.0\n"
     ]
    }
   ],
   "source": [
    "complement_matrix = utils.find_complement_matrix(\"data/frb100-40.mis\")\n",
    "penalty_matrix = utils.apply_preparations(complement_matrix)\n",
    "iterated_ls = IteratedLS(penalty_matrix=penalty_matrix, max_time=10, type_search=\"local_search\", ls_type=\"best_improvement\", iterated_type=\"clique_combination\", initial_solution_type=\"rcisrs\")\n",
    "iterated_ls.make_iterated_local_search()\n",
    "print_result(iterated_ls.best_solution)\n",
    "print(iterated_ls.value)"
   ]
  },
  {
   "cell_type": "code",
   "execution_count": null,
   "metadata": {},
   "outputs": [],
   "source": []
  }
 ],
 "metadata": {
  "kernelspec": {
   "display_name": "Python 3",
   "language": "python",
   "name": "python3"
  },
  "language_info": {
   "codemirror_mode": {
    "name": "ipython",
    "version": 3
   },
   "file_extension": ".py",
   "mimetype": "text/x-python",
   "name": "python",
   "nbconvert_exporter": "python",
   "pygments_lexer": "ipython3",
   "version": "3.6.5"
  }
 },
 "nbformat": 4,
 "nbformat_minor": 2
}
